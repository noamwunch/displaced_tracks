{
 "cells": [
  {
   "cell_type": "markdown",
   "metadata": {},
   "source": [
    "# ROC comparison"
   ]
  },
  {
   "cell_type": "code",
   "execution_count": null,
   "metadata": {},
   "outputs": [],
   "source": [
    "def preds(model, feats, bkg_test, signal_test):\n",
    "    X_test_B = np.concatenate(np.array(bkg_j_test.copy()[feats]).flatten()).reshape(len(bkg_j_test), n_constits, len(feats))\n",
    "    X_test_S = np.concatenate(np.array(sig_j_test.copy()[feats]).flatten()).reshape(len(sig_j_test), n_constits, len(feats))\n",
    "    model = tf.keras.models.load_model(\"cnn_towerem_WandB\")\n",
    "    bkg_preds1 = model.predict(X_test_B).flatten()\n",
    "    sig_preds1 = model.predict(X_test_S).flatten()    "
   ]
  },
  {
   "cell_type": "code",
   "execution_count": 125,
   "metadata": {},
   "outputs": [],
   "source": [
    "feats = [\"PT_tower_em\", \"Eta_tower_em\", \"Phi_tower_em\"]\n",
    "X_test_B = np.concatenate(np.array(bkg_j_test.copy()[feats]).flatten()).reshape(len(bkg_j_test), n_constits, len(feats))\n",
    "X_test_S = np.concatenate(np.array(sig_j_test.copy()[feats]).flatten()).reshape(len(sig_j_test), n_constits, len(feats))\n",
    "model = tf.keras.models.load_model(\"cnn_towerem_WandB\")\n",
    "bkg_preds1 = model.predict(X_test_B).flatten()\n",
    "sig_preds1 = model.predict(X_test_S).flatten()\n",
    "\n",
    "feats = [\"PT_tower_had\", \"Eta_tower_had\", \"Phi_tower_had\"]\n",
    "X_test_B = np.concatenate(np.array(bkg_j_test.copy()[feats]).flatten()).reshape(len(bkg_j_test), n_constits, len(feats))\n",
    "X_test_S = np.concatenate(np.array(sig_j_test.copy()[feats]).flatten()).reshape(len(sig_j_test), n_constits, len(feats))\n",
    "model = tf.keras.models.load_model(\"cnn_towerhad_WandB\")\n",
    "bkg_preds2 = model.predict(X_test_B).flatten()\n",
    "sig_preds2 = model.predict(X_test_S).flatten()\n",
    "\n",
    "feats = [\"PT_track\", \"Eta_track\", \"Phi_track\",\"D0_track\", \"DZ_track\"]\n",
    "X_test_B = np.concatenate(np.array(bkg_j_test.copy()[feats]).flatten()).reshape(len(bkg_j_test), n_constits, len(feats))\n",
    "X_test_S = np.concatenate(np.array(sig_j_test.copy()[feats]).flatten()).reshape(len(sig_j_test), n_constits, len(feats))\n",
    "model = tf.keras.models.load_model(\"cnn_track_WandB\")\n",
    "bkg_preds3 = model.predict(X_test_B).flatten()\n",
    "sig_preds3 = model.predict(X_test_S).flatten()\n",
    "\n",
    "feats = [\"mult_track\", \"mult_tower_had\",\"mult_tower_em\", \"Eta\", \"maxD0\", \"maxDZ\", \"avgDeltaR\"]\n",
    "params = {'objective':'binary:logistic', 'n_estimators':500}\n",
    "xgb_model= XGBClassifier(**params)\n",
    "xgb_model.load_model(\"tree_WandB.txt\")\n",
    "bkg_preds4 = xgb_model.predict_proba(bkg_j_test[feats])[:,1]\n",
    "sig_preds4 = xgb_model.predict_proba(sig_j_test[feats])[:,1]\n",
    "\n",
    "bkg_preds_test = np.array([bkg_preds1, bkg_preds2, bkg_preds3, bkg_preds4]).transpose()\n",
    "sig_preds_test = np.array([sig_preds1, sig_preds2, sig_preds3, sig_preds4]).transpose()"
   ]
  },
  {
   "cell_type": "code",
   "execution_count": 152,
   "metadata": {},
   "outputs": [
    {
     "name": "stdout",
     "output_type": "stream",
     "text": [
      "0.5004379653174927\n",
      "0.747333491765402\n",
      "0.4472388467915693\n",
      "0.5714064973619644\n",
      "0.7455193132029205\n",
      "0.6173110119210615\n"
     ]
    }
   ],
   "source": [
    "print(np.corrcoef(sig_preds1,sig_preds2)[0,1])\n",
    "print(np.corrcoef(sig_preds2,sig_preds4)[0,1])\n",
    "print(np.corrcoef(sig_preds1,sig_preds3)[0,1])\n",
    "\n",
    "print(np.corrcoef(bkg_preds3,bkg_preds4)[0,1])\n",
    "print(np.corrcoef(bkg_preds2,bkg_preds4)[0,1])\n",
    "print(np.corrcoef(bkg_preds1,bkg_preds4)[0,1])"
   ]
  },
  {
   "cell_type": "code",
   "execution_count": 126,
   "metadata": {},
   "outputs": [],
   "source": [
    "data = pd.concat([sig_j,bkg_j]).sample(frac=1).reset_index()\n",
    "train_ind = np.arange(0,int(len(data)*(1-val_frac))) \n",
    "val_ind = np.arange(int(len(data)*(1-val_frac)),len(data))\n",
    "\n",
    "feats = [\"PT_tower_em\", \"Eta_tower_em\", \"Phi_tower_em\"]\n",
    "model = tf.keras.models.load_model(\"cnn_towerem_WandB\")\n",
    "X_train = np.concatenate(np.array(data.copy().iloc[train_ind][feats]).flatten()).reshape(len(train_ind), n_constits, len(feats))\n",
    "y_train = data.iloc[train_ind][\"label\"]\n",
    "X_val =np.concatenate(np.array(data.copy().iloc[val_ind][feats]).flatten()).reshape(len(val_ind), n_constits, len(feats))\n",
    "y_val = data.loc[val_ind][\"label\"]\n",
    "preds1_train = model.predict(X_train).flatten()\n",
    "preds1_val = model.predict(X_val).flatten()\n",
    "\n",
    "feats = [\"PT_tower_had\", \"Eta_tower_had\", \"Phi_tower_had\"]\n",
    "model = tf.keras.models.load_model(\"cnn_towerhad_WandB\")\n",
    "X_train = np.concatenate(np.array(data.copy().iloc[train_ind][feats]).flatten()).reshape(len(train_ind), n_constits, len(feats))\n",
    "y_train = data.iloc[train_ind][\"label\"]\n",
    "X_val =np.concatenate(np.array(data.copy().iloc[val_ind][feats]).flatten()).reshape(len(val_ind), n_constits, len(feats))\n",
    "y_val = data.loc[val_ind][\"label\"]\n",
    "preds2_train = model.predict(X_train).flatten()\n",
    "preds2_val = model.predict(X_val).flatten()\n",
    "\n",
    "feats = [\"PT_track\", \"Eta_track\", \"Phi_track\",\"D0_track\", \"DZ_track\"]\n",
    "model = tf.keras.models.load_model(\"cnn_track_WandB\")\n",
    "X_train = np.concatenate(np.array(data.copy().iloc[train_ind][feats]).flatten()).reshape(len(train_ind), n_constits, len(feats))\n",
    "y_train = data.iloc[train_ind][\"label\"]\n",
    "X_val =np.concatenate(np.array(data.copy().iloc[val_ind][feats]).flatten()).reshape(len(val_ind), n_constits, len(feats))\n",
    "y_val = data.loc[val_ind][\"label\"]\n",
    "preds3_train = model.predict(X_train).flatten()\n",
    "preds3_val = model.predict(X_val).flatten()\n",
    "\n",
    "feats = [\"mult_track\", \"mult_tower_had\",\"mult_tower_em\", \"Eta\", \"maxD0\", \"maxDZ\", \"avgDeltaR\"]\n",
    "params = {'objective':'binary:logistic', 'n_estimators':500}\n",
    "xgb_model= XGBClassifier(**params)\n",
    "xgb_model.load_model(\"tree_WandB.txt\")\n",
    "preds4_train = xgb_model.predict_proba(data.iloc[train_ind][feats])[:,1]\n",
    "preds4_val = xgb_model.predict_proba(data.iloc[val_ind][feats])[:,1]\n",
    "\n",
    "X_train = np.array([preds1_train, preds2_train, preds3_train, preds4_train]).transpose()\n",
    "y_train = data.iloc[train_ind][\"label\"]\n",
    "X_val = np.array([preds1_val, preds2_val, preds3_val, preds4_val]).transpose()\n",
    "y_ = data.iloc[val_ind][\"label\"]"
   ]
  },
  {
   "cell_type": "code",
   "execution_count": 109,
   "metadata": {},
   "outputs": [
    {
     "data": {
      "text/plain": [
       "(41062, 4)"
      ]
     },
     "execution_count": 109,
     "metadata": {},
     "output_type": "execute_result"
    }
   ],
   "source": [
    "X_train.shape"
   ]
  },
  {
   "cell_type": "code",
   "execution_count": 110,
   "metadata": {},
   "outputs": [
    {
     "data": {
      "text/plain": [
       "(10266,)"
      ]
     },
     "execution_count": 110,
     "metadata": {},
     "output_type": "execute_result"
    }
   ],
   "source": [
    "y_train.shape"
   ]
  },
  {
   "cell_type": "code",
   "execution_count": 65,
   "metadata": {},
   "outputs": [
    {
     "data": {
      "text/plain": [
       "(4, 28677)"
      ]
     },
     "execution_count": 65,
     "metadata": {},
     "output_type": "execute_result"
    }
   ],
   "source": [
    "bkg_preds.shape"
   ]
  },
  {
   "cell_type": "code",
   "execution_count": 66,
   "metadata": {},
   "outputs": [],
   "source": [
    "bkg_preds = np.transpose(bkg_preds)\n",
    "sig_preds = np.transpose(sig_preds)\n",
    "bkg_best = []\n",
    "for row in bkg_preds:\n",
    "    bkg_best.append(row[np.argmax(np.abs(0.5-row))])\n",
    "bkg_preds = np.array(bkg_best)    \n",
    "sig_best = []    \n",
    "for row in sig_preds:\n",
    "    sig_best.append(row[np.argmax(np.abs(0.5-row))])    \n",
    "sig_preds = np.array(sig_best)    "
   ]
  },
  {
   "cell_type": "code",
   "execution_count": 73,
   "metadata": {},
   "outputs": [
    {
     "name": "stdout",
     "output_type": "stream",
     "text": [
      "sig_eff=0.5013107937081902\n",
      "bkg_eff=0.006241936046308889\n",
      "Wall time: 168 ms\n"
     ]
    }
   ],
   "source": [
    "%%time\n",
    "thresh = 0.985\n",
    "\n",
    "bkg_eff = sum(bkg_preds>thresh)/len(bkg_preds)\n",
    "sig_eff = sum(sig_preds>thresh)/len(sig_preds)\n",
    "\n",
    "print(\"sig_eff={}\".format(sig_eff))\n",
    "print(\"bkg_eff={}\".format(bkg_eff))"
   ]
  },
  {
   "cell_type": "code",
   "execution_count": 100,
   "metadata": {},
   "outputs": [
    {
     "name": "stdout",
     "output_type": "stream",
     "text": [
      "sig_eff=0.4994576026035075\n",
      "bkg_eff=0.006346549499598982\n",
      "Wall time: 406 ms\n"
     ]
    }
   ],
   "source": [
    "%%time\n",
    "thresh = 0.955\n",
    "bkg_best = []\n",
    "for row in bkg_preds:\n",
    "    bkg_best.append(np.sum(row>thresh)>=2)\n",
    "sig_best = []    \n",
    "for row in sig_preds:\n",
    "    sig_best.append(np.sum(row>thresh)>=2)    \n",
    "sig_eff = np.sum(sig_best)/len(sig_best)  \n",
    "bkg_eff = np.sum(bkg_best)/len(bkg_best)  \n",
    "print(\"sig_eff={}\".format(sig_eff))\n",
    "print(\"bkg_eff={}\".format(bkg_eff))"
   ]
  },
  {
   "cell_type": "code",
   "execution_count": 127,
   "metadata": {},
   "outputs": [
    {
     "name": "stdout",
     "output_type": "stream",
     "text": [
      "[0]\tvalidation_0-error:0.07610\tvalidation_1-error:0.07374\n",
      "Multiple eval metrics have been passed: 'validation_1-error' will be used for early stopping.\n",
      "\n",
      "Will train until validation_1-error hasn't improved in 15 rounds.\n",
      "[1]\tvalidation_0-error:0.07501\tvalidation_1-error:0.07384\n",
      "[2]\tvalidation_0-error:0.07416\tvalidation_1-error:0.07403\n",
      "[3]\tvalidation_0-error:0.07377\tvalidation_1-error:0.07354\n",
      "[4]\tvalidation_0-error:0.07362\tvalidation_1-error:0.07247\n",
      "[5]\tvalidation_0-error:0.07362\tvalidation_1-error:0.07247\n",
      "[6]\tvalidation_0-error:0.07355\tvalidation_1-error:0.07228\n",
      "[7]\tvalidation_0-error:0.07347\tvalidation_1-error:0.07218\n",
      "[8]\tvalidation_0-error:0.07357\tvalidation_1-error:0.07257\n",
      "[9]\tvalidation_0-error:0.07365\tvalidation_1-error:0.07237\n",
      "[10]\tvalidation_0-error:0.07369\tvalidation_1-error:0.07237\n",
      "[11]\tvalidation_0-error:0.07345\tvalidation_1-error:0.07218\n",
      "[12]\tvalidation_0-error:0.07338\tvalidation_1-error:0.07237\n",
      "[13]\tvalidation_0-error:0.07338\tvalidation_1-error:0.07228\n",
      "[14]\tvalidation_0-error:0.07333\tvalidation_1-error:0.07237\n",
      "[15]\tvalidation_0-error:0.07340\tvalidation_1-error:0.07218\n",
      "[16]\tvalidation_0-error:0.07328\tvalidation_1-error:0.07218\n",
      "[17]\tvalidation_0-error:0.07333\tvalidation_1-error:0.07218\n",
      "[18]\tvalidation_0-error:0.07326\tvalidation_1-error:0.07208\n",
      "[19]\tvalidation_0-error:0.07321\tvalidation_1-error:0.07228\n",
      "[20]\tvalidation_0-error:0.07318\tvalidation_1-error:0.07228\n",
      "[21]\tvalidation_0-error:0.07333\tvalidation_1-error:0.07208\n",
      "[22]\tvalidation_0-error:0.07274\tvalidation_1-error:0.07296\n",
      "[23]\tvalidation_0-error:0.07267\tvalidation_1-error:0.07306\n",
      "[24]\tvalidation_0-error:0.07269\tvalidation_1-error:0.07315\n",
      "[25]\tvalidation_0-error:0.07262\tvalidation_1-error:0.07315\n",
      "[26]\tvalidation_0-error:0.07221\tvalidation_1-error:0.07364\n",
      "[27]\tvalidation_0-error:0.07221\tvalidation_1-error:0.07364\n",
      "[28]\tvalidation_0-error:0.07218\tvalidation_1-error:0.07364\n",
      "[29]\tvalidation_0-error:0.07204\tvalidation_1-error:0.07374\n",
      "[30]\tvalidation_0-error:0.07187\tvalidation_1-error:0.07374\n",
      "[31]\tvalidation_0-error:0.07140\tvalidation_1-error:0.07315\n",
      "[32]\tvalidation_0-error:0.07138\tvalidation_1-error:0.07315\n",
      "[33]\tvalidation_0-error:0.07131\tvalidation_1-error:0.07325\n",
      "Stopping. Best iteration:\n",
      "[18]\tvalidation_0-error:0.07326\tvalidation_1-error:0.07208\n",
      "\n"
     ]
    },
    {
     "data": {
      "text/plain": [
       "XGBClassifier(base_score=0.5, booster='gbtree', colsample_bylevel=1,\n",
       "              colsample_bynode=1, colsample_bytree=1, gamma=0, gpu_id=-1,\n",
       "              importance_type='gain', interaction_constraints='',\n",
       "              learning_rate=0.300000012, max_delta_step=0, max_depth=6,\n",
       "              min_child_weight=1, missing=nan, monotone_constraints='()',\n",
       "              n_estimators=500, n_jobs=0, num_parallel_tree=1, random_state=0,\n",
       "              reg_alpha=0, reg_lambda=1, scale_pos_weight=1, subsample=1,\n",
       "              tree_method='exact', validate_parameters=1, verbosity=None)"
      ]
     },
     "execution_count": 127,
     "metadata": {},
     "output_type": "execute_result"
    }
   ],
   "source": [
    "params = {'objective':'binary:logistic', 'n_estimators':500}\n",
    "xgb_merge= XGBClassifier(**params)\n",
    "xgb_merge.fit(X_train, y_train, eval_set=[(X_train, y_train), (X_val, y_val)] , early_stopping_rounds=15,verbose=True)"
   ]
  },
  {
   "cell_type": "code",
   "execution_count": 131,
   "metadata": {},
   "outputs": [
    {
     "name": "stdout",
     "output_type": "stream",
     "text": [
      "sig_eff=0.5089947568251673\n",
      "bkg_eff=0.004742476549150888\n"
     ]
    },
    {
     "data": {
      "image/png": "[encoded data removed]",
      "text/plain": [
       "<Figure size 432x288 with 1 Axes>"
      ]
     },
     "metadata": {
      "needs_background": "light"
     },
     "output_type": "display_data"
    }
   ],
   "source": [
    "xgb_model = xgb_merge\n",
    "thresh = 0.976\n",
    "\n",
    "bkg_preds = xgb_model.predict_proba(bkg_preds_test)[:,1]\n",
    "sig_preds = xgb_model.predict_proba(sig_preds_test)[:,1]\n",
    "bkg_eff = sum(bkg_preds>thresh)/len(bkg_preds)\n",
    "sig_eff = sum(sig_preds>thresh)/len(sig_preds)\n",
    "print(\"sig_eff={}\".format(sig_eff))\n",
    "print(\"bkg_eff={}\".format(bkg_eff))\n",
    "\n",
    "plt.hist(bkg_preds, bins=10);\n",
    "plt.hist(sig_preds, bins=10);"
   ]
  }
 ],
 "metadata": {
  "kernelspec": {
   "display_name": "Python 3",
   "language": "python",
   "name": "python3"
  },
  "language_info": {
   "codemirror_mode": {
    "name": "ipython",
    "version": 3
   },
   "file_extension": ".py",
   "mimetype": "text/x-python",
   "name": "python",
   "nbconvert_exporter": "python",
   "pygments_lexer": "ipython3",
   "version": "3.7.4"
  }
 },
 "nbformat": 4,
 "nbformat_minor": 4
}
