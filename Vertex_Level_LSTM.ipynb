{
 "cells": [
  {
   "cell_type": "code",
   "execution_count": 1,
   "metadata": {},
   "outputs": [
    {
     "name": "stdout",
     "output_type": "stream",
     "text": [
      "Wall time: 6.02 s\n"
     ]
    }
   ],
   "source": [
    "%%time\n",
    "import numpy as np\n",
    "import matplotlib.pyplot as plt\n",
    "import pandas as pd\n",
    "\n",
    "from Functions.Preprocess import events_to_df_vert1, scale_shift_feats, for_nn_vert\n",
    "from Functions.Models import cnn, lstm, lstm_big, train, lstm_mask\n",
    "from Functions.Evaluate import compareAB, test_model\n",
    "analysis_path = \"Analysis/Rave/\""
   ]
  },
  {
   "cell_type": "code",
   "execution_count": 3,
   "metadata": {},
   "outputs": [
    {
     "name": "stdout",
     "output_type": "stream",
     "text": [
      "Wall time: 82.8 ms\n"
     ]
    }
   ],
   "source": [
    "%%time\n",
    "# Train NN \n",
    "max_ev = int(1e2)\n",
    "n_constits = 10\n",
    "sort = 'vert_disp'\n",
    "trunc = True\n",
    "\n",
    "#B_path = data_path + \"event_level_vert/bb1_vert.txt\"\n",
    "#S_path = data_path + \"event_level_vert/dark1_vert.txt\"\n",
    "B_path = [\"Data/from_cluster/bb{}.txt\".format(i) for i in range(1,5)]\n",
    "S_path = [\"Data/from_cluster/dark{}.txt\".format(i) for i in range(1,5)]\n",
    "\n",
    "B = events_to_df_vert1(B_path, label=0, max_ev=max_ev, n_constits=n_constits, sort=sort, trunc=trunc)\n",
    "S = events_to_df_vert1(S_path, label=1, max_ev=max_ev, n_constits=n_constits, sort=sort, trunc=trunc) \n",
    "B = B[:len(S)]\n",
    "S = S[:len(B)]"
   ]
  },
  {
   "cell_type": "code",
   "execution_count": 8,
   "metadata": {},
   "outputs": [
    {
     "data": {
      "text/html": [
       "<div>\n",
       "<style scoped>\n",
       "    .dataframe tbody tr th:only-of-type {\n",
       "        vertical-align: middle;\n",
       "    }\n",
       "\n",
       "    .dataframe tbody tr th {\n",
       "        vertical-align: top;\n",
       "    }\n",
       "\n",
       "    .dataframe thead th {\n",
       "        text-align: right;\n",
       "    }\n",
       "</style>\n",
       "<table border=\"1\" class=\"dataframe\">\n",
       "  <thead>\n",
       "    <tr style=\"text-align: right;\">\n",
       "      <th></th>\n",
       "      <th>Event</th>\n",
       "      <th>Jet</th>\n",
       "      <th>MET</th>\n",
       "      <th>jet_PT</th>\n",
       "      <th>jet_Eta</th>\n",
       "      <th>jet_Phi</th>\n",
       "      <th>n_vert</th>\n",
       "      <th>vert_disp</th>\n",
       "      <th>vert_mult</th>\n",
       "      <th>vert_PT</th>\n",
       "      <th>label</th>\n",
       "    </tr>\n",
       "  </thead>\n",
       "  <tbody>\n",
       "    <tr>\n",
       "      <th>0</th>\n",
       "      <td>1</td>\n",
       "      <td>1</td>\n",
       "      <td>68.46680</td>\n",
       "      <td>153.974</td>\n",
       "      <td>0.813769</td>\n",
       "      <td>0.462871</td>\n",
       "      <td>[2.0, 4.0, 1.0, -10.0, -10.0, -10.0, -10.0, -1...</td>\n",
       "      <td>[0.50683, 0.295038, 0.0182875, -10.0, -10.0, -...</td>\n",
       "      <td>[1.0, 1.0, 13.0, -10.0, -10.0, -10.0, -10.0, -...</td>\n",
       "      <td>[11.0239, 18.7647, 14.5143, -10.0, -10.0, -10....</td>\n",
       "      <td>0</td>\n",
       "    </tr>\n",
       "    <tr>\n",
       "      <th>1</th>\n",
       "      <td>2</td>\n",
       "      <td>1</td>\n",
       "      <td>15.90340</td>\n",
       "      <td>152.063</td>\n",
       "      <td>-1.529420</td>\n",
       "      <td>0.692719</td>\n",
       "      <td>[2.0, 1.0, -10.0, -10.0, -10.0, -10.0, -10.0, ...</td>\n",
       "      <td>[0.231678, 0.00903273, -10.0, -10.0, -10.0, -1...</td>\n",
       "      <td>[1.0, 7.0, -10.0, -10.0, -10.0, -10.0, -10.0, ...</td>\n",
       "      <td>[14.5134, 1.3624, -10.0, -10.0, -10.0, -10.0, ...</td>\n",
       "      <td>0</td>\n",
       "    </tr>\n",
       "    <tr>\n",
       "      <th>2</th>\n",
       "      <td>5</td>\n",
       "      <td>2</td>\n",
       "      <td>5.44335</td>\n",
       "      <td>152.909</td>\n",
       "      <td>0.732531</td>\n",
       "      <td>2.773680</td>\n",
       "      <td>[3.0, 2.0, 1.0, -10.0, -10.0, -10.0, -10.0, -1...</td>\n",
       "      <td>[2.44415, 0.174281, 0.0188993, -10.0, -10.0, -...</td>\n",
       "      <td>[2.0, 2.0, 8.0, -10.0, -10.0, -10.0, -10.0, -1...</td>\n",
       "      <td>[1.08082, 31.8283, 32.5085, -10.0, -10.0, -10....</td>\n",
       "      <td>0</td>\n",
       "    </tr>\n",
       "    <tr>\n",
       "      <th>3</th>\n",
       "      <td>6</td>\n",
       "      <td>1</td>\n",
       "      <td>37.38050</td>\n",
       "      <td>147.975</td>\n",
       "      <td>1.324040</td>\n",
       "      <td>1.525620</td>\n",
       "      <td>[2.0, 1.0, -10.0, -10.0, -10.0, -10.0, -10.0, ...</td>\n",
       "      <td>[0.134639, 0.0151171, -10.0, -10.0, -10.0, -10...</td>\n",
       "      <td>[2.0, 9.0, -10.0, -10.0, -10.0, -10.0, -10.0, ...</td>\n",
       "      <td>[4.84447, 20.2647, -10.0, -10.0, -10.0, -10.0,...</td>\n",
       "      <td>0</td>\n",
       "    </tr>\n",
       "    <tr>\n",
       "      <th>4</th>\n",
       "      <td>8</td>\n",
       "      <td>1</td>\n",
       "      <td>27.19790</td>\n",
       "      <td>152.460</td>\n",
       "      <td>0.636567</td>\n",
       "      <td>2.553070</td>\n",
       "      <td>[3.0, 1.0, -10.0, -10.0, -10.0, -10.0, -10.0, ...</td>\n",
       "      <td>[41.2873, 0.0306256, -10.0, -10.0, -10.0, -10....</td>\n",
       "      <td>[3.0, 4.0, -10.0, -10.0, -10.0, -10.0, -10.0, ...</td>\n",
       "      <td>[68.5297, 45.4006, -10.0, -10.0, -10.0, -10.0,...</td>\n",
       "      <td>0</td>\n",
       "    </tr>\n",
       "  </tbody>\n",
       "</table>\n",
       "</div>"
      ],
      "text/plain": [
       "   Event  Jet       MET   jet_PT   jet_Eta   jet_Phi  \\\n",
       "0      1    1  68.46680  153.974  0.813769  0.462871   \n",
       "1      2    1  15.90340  152.063 -1.529420  0.692719   \n",
       "2      5    2   5.44335  152.909  0.732531  2.773680   \n",
       "3      6    1  37.38050  147.975  1.324040  1.525620   \n",
       "4      8    1  27.19790  152.460  0.636567  2.553070   \n",
       "\n",
       "                                              n_vert  \\\n",
       "0  [2.0, 4.0, 1.0, -10.0, -10.0, -10.0, -10.0, -1...   \n",
       "1  [2.0, 1.0, -10.0, -10.0, -10.0, -10.0, -10.0, ...   \n",
       "2  [3.0, 2.0, 1.0, -10.0, -10.0, -10.0, -10.0, -1...   \n",
       "3  [2.0, 1.0, -10.0, -10.0, -10.0, -10.0, -10.0, ...   \n",
       "4  [3.0, 1.0, -10.0, -10.0, -10.0, -10.0, -10.0, ...   \n",
       "\n",
       "                                           vert_disp  \\\n",
       "0  [0.50683, 0.295038, 0.0182875, -10.0, -10.0, -...   \n",
       "1  [0.231678, 0.00903273, -10.0, -10.0, -10.0, -1...   \n",
       "2  [2.44415, 0.174281, 0.0188993, -10.0, -10.0, -...   \n",
       "3  [0.134639, 0.0151171, -10.0, -10.0, -10.0, -10...   \n",
       "4  [41.2873, 0.0306256, -10.0, -10.0, -10.0, -10....   \n",
       "\n",
       "                                           vert_mult  \\\n",
       "0  [1.0, 1.0, 13.0, -10.0, -10.0, -10.0, -10.0, -...   \n",
       "1  [1.0, 7.0, -10.0, -10.0, -10.0, -10.0, -10.0, ...   \n",
       "2  [2.0, 2.0, 8.0, -10.0, -10.0, -10.0, -10.0, -1...   \n",
       "3  [2.0, 9.0, -10.0, -10.0, -10.0, -10.0, -10.0, ...   \n",
       "4  [3.0, 4.0, -10.0, -10.0, -10.0, -10.0, -10.0, ...   \n",
       "\n",
       "                                             vert_PT  label  \n",
       "0  [11.0239, 18.7647, 14.5143, -10.0, -10.0, -10....      0  \n",
       "1  [14.5134, 1.3624, -10.0, -10.0, -10.0, -10.0, ...      0  \n",
       "2  [1.08082, 31.8283, 32.5085, -10.0, -10.0, -10....      0  \n",
       "3  [4.84447, 20.2647, -10.0, -10.0, -10.0, -10.0,...      0  \n",
       "4  [68.5297, 45.4006, -10.0, -10.0, -10.0, -10.0,...      0  "
      ]
     },
     "execution_count": 8,
     "metadata": {},
     "output_type": "execute_result"
    }
   ],
   "source": [
    "B.head()"
   ]
  },
  {
   "cell_type": "code",
   "execution_count": 9,
   "metadata": {},
   "outputs": [
    {
     "data": {
      "text/plain": [
       "(43,)"
      ]
     },
     "execution_count": 9,
     "metadata": {},
     "output_type": "execute_result"
    }
   ],
   "source": [
    "B.vert_disp.to_numpy().shape"
   ]
  },
  {
   "cell_type": "code",
   "execution_count": 33,
   "metadata": {},
   "outputs": [
    {
     "name": "stdout",
     "output_type": "stream",
     "text": [
      "7.099958639458813e-16\n",
      "-13.17808778774295\n",
      "Wall time: 10.5 s\n"
     ]
    },
    {
     "data": {
      "text/plain": [
       "(array([37506.,  4831.,  4715.,  3954.,  3188.,  2523.,  1986.,  1579.,\n",
       "         1234.,   982.]),\n",
       " array([0. , 0.1, 0.2, 0.3, 0.4, 0.5, 0.6, 0.7, 0.8, 0.9, 1. ]),\n",
       " <BarContainer object of 10 artists>)"
      ]
     },
     "execution_count": 33,
     "metadata": {},
     "output_type": "execute_result"
    },
    {
     "data": {
      "image/png": "[encoded data removed]",
      "text/plain": [
       "<Figure size 432x288 with 1 Axes>"
      ]
     },
     "metadata": {
      "needs_background": "light"
     },
     "output_type": "display_data"
    }
   ],
   "source": [
    "%%time\n",
    "# Train NN \n",
    "max_ev = int(1e5)\n",
    "n_constits = 10\n",
    "sort = 'vert_disp'\n",
    "trunc = True\n",
    "\n",
    "#B_path = data_path + \"event_level_vert/bb1_vert.txt\"\n",
    "#S_path = data_path + \"event_level_vert/dark1_vert.txt\"\n",
    "B_path = [\"Data/from_cluster/bb{}.txt\".format(i) for i in range(1,5)]\n",
    "S_path = [\"Data/from_cluster/dark{}.txt\".format(i) for i in range(1,5)]\n",
    "\n",
    "B = events_to_df_vert1(B_path, label=0, max_ev=max_ev, n_constits=n_constits, sort=sort, trunc=trunc)\n",
    "S = events_to_df_vert1(S_path, label=1, max_ev=max_ev, n_constits=n_constits, sort=sort, trunc=trunc) \n",
    "B = B[:len(S)]\n",
    "S = S[:len(B)]\n",
    "arr = np.vstack(B.vert_disp.to_numpy())\n",
    "arr = np.where(arr==-10.0,np.nan,arr)\n",
    "print(np.nanmean(arr - np.nanmean(arr)))\n",
    "print(np.nanmedian(arr - np.nanmean(arr)))\n",
    "plt.hist(arr.flatten(), range=[0,1])"
   ]
  },
  {
   "cell_type": "code",
   "execution_count": 39,
   "metadata": {},
   "outputs": [
    {
     "data": {
      "text/plain": [
       "<AxesSubplot:>"
      ]
     },
     "execution_count": 39,
     "metadata": {},
     "output_type": "execute_result"
    },
    {
     "data": {
      "image/png": "[encoded data removed]",
      "text/plain": [
       "<Figure size 432x288 with 1 Axes>"
      ]
     },
     "metadata": {
      "needs_background": "light"
     },
     "output_type": "display_data"
    }
   ],
   "source": [
    "B[\"vert1_disp\"] = B.vert_disp.map(lambda x: x[0])\n",
    "B.vert1_disp.hist(range=[0,5], density=True)"
   ]
  },
  {
   "cell_type": "code",
   "execution_count": 40,
   "metadata": {},
   "outputs": [
    {
     "data": {
      "text/plain": [
       "<AxesSubplot:>"
      ]
     },
     "execution_count": 40,
     "metadata": {},
     "output_type": "execute_result"
    },
    {
     "data": {
      "image/png": "[encoded data removed]",
      "text/plain": [
       "<Figure size 432x288 with 1 Axes>"
      ]
     },
     "metadata": {
      "needs_background": "light"
     },
     "output_type": "display_data"
    }
   ],
   "source": [
    "S[\"vert1_disp\"] = S.vert_disp.map(lambda x: x[0])\n",
    "S.vert1_disp.hist(range=[0,5], density=True)"
   ]
  },
  {
   "cell_type": "code",
   "execution_count": 26,
   "metadata": {},
   "outputs": [
    {
     "data": {
      "text/plain": [
       "(2,)"
      ]
     },
     "execution_count": 26,
     "metadata": {},
     "output_type": "execute_result"
    }
   ],
   "source": [
    "arr.shape"
   ]
  },
  {
   "cell_type": "code",
   "execution_count": 2,
   "metadata": {},
   "outputs": [
    {
     "name": "stdout",
     "output_type": "stream",
     "text": [
      "num total examples = 117058\n",
      "num train examples = 93646\n",
      "num validation examples = 23412\n",
      "num Background examples = 58529\n",
      "num Signal examples = 58529\n",
      "X_train shape = (93646, 10, 3) \n",
      "\n",
      "Number of background jets =  58529\n",
      "Number of signal jets =  58529\n",
      "Model: \"sequential\"\n",
      "_________________________________________________________________\n",
      "Layer (type)                 Output Shape              Param #   \n",
      "=================================================================\n",
      "masking (Masking)            (None, 10, 3)             0         \n",
      "_________________________________________________________________\n",
      "lstm (LSTM)                  (None, 50)                10800     \n",
      "_________________________________________________________________\n",
      "dense (Dense)                (None, 16)                816       \n",
      "_________________________________________________________________\n",
      "dense_1 (Dense)              (None, 1)                 17        \n",
      "=================================================================\n",
      "Total params: 11,633\n",
      "Trainable params: 11,633\n",
      "Non-trainable params: 0\n",
      "_________________________________________________________________\n",
      "\n",
      "Epoch 1/100\n",
      "93/94 [============================>.] - ETA: 0s - loss: 0.4301\n",
      "Epoch 00001: val_loss improved from inf to 0.29172, saving model to Models/lstm_mask_vertex\n",
      "WARNING:tensorflow:From c:\\users\\noamw\\desktop\\jet_tagging\\venv\\lib\\site-packages\\tensorflow\\python\\ops\\resource_variable_ops.py:1817: calling BaseResourceVariable.__init__ (from tensorflow.python.ops.resource_variable_ops) with constraint is deprecated and will be removed in a future version.\n",
      "Instructions for updating:\n",
      "If using Keras pass *_constraint arguments to layers.\n",
      "INFO:tensorflow:Assets written to: Models/lstm_mask_vertex\\assets\n",
      "94/94 [==============================] - 10s 109ms/step - loss: 0.4292 - val_loss: 0.2917\n",
      "Epoch 2/100\n",
      "93/94 [============================>.] - ETA: 0s - loss: 0.2683\n",
      "Epoch 00002: val_loss improved from 0.29172 to 0.26659, saving model to Models/lstm_mask_vertex\n",
      "INFO:tensorflow:Assets written to: Models/lstm_mask_vertex\\assets\n",
      "94/94 [==============================] - 8s 88ms/step - loss: 0.2683 - val_loss: 0.2666\n",
      "Epoch 3/100\n",
      "94/94 [==============================] - ETA: 0s - loss: 0.2495- ETA:  - ETA: 2s - loss: 0.253\n",
      "Epoch 00003: val_loss improved from 0.26659 to 0.24295, saving model to Models/lstm_mask_vertex\n",
      "INFO:tensorflow:Assets written to: Models/lstm_mask_vertex\\assets\n",
      "94/94 [==============================] - 7s 79ms/step - loss: 0.2495 - val_loss: 0.2429\n",
      "Epoch 4/100\n",
      "93/94 [============================>.] - ETA: 0s - loss: 0.2402\n",
      "Epoch 00004: val_loss improved from 0.24295 to 0.23606, saving model to Models/lstm_mask_vertex\n",
      "INFO:tensorflow:Assets written to: Models/lstm_mask_vertex\\assets\n",
      "94/94 [==============================] - 8s 81ms/step - loss: 0.2404 - val_loss: 0.2361\n",
      "Epoch 5/100\n",
      "93/94 [============================>.] - ETA: 0s - loss: 0.2352\n",
      "Epoch 00005: val_loss improved from 0.23606 to 0.23418, saving model to Models/lstm_mask_vertex\n",
      "INFO:tensorflow:Assets written to: Models/lstm_mask_vertex\\assets\n",
      "94/94 [==============================] - 8s 83ms/step - loss: 0.2351 - val_loss: 0.2342\n",
      "Epoch 6/100\n",
      "93/94 [============================>.] - ETA: 0s - loss: 0.2350\n",
      "Epoch 00006: val_loss did not improve from 0.23418\n",
      "94/94 [==============================] - 6s 63ms/step - loss: 0.2349 - val_loss: 0.2368\n",
      "Epoch 7/100\n",
      "93/94 [============================>.] - ETA: 0s - loss: 0.2319\n",
      "Epoch 00007: val_loss improved from 0.23418 to 0.23137, saving model to Models/lstm_mask_vertex\n",
      "INFO:tensorflow:Assets written to: Models/lstm_mask_vertex\\assets\n",
      "94/94 [==============================] - 7s 79ms/step - loss: 0.2320 - val_loss: 0.2314\n",
      "Epoch 8/100\n",
      "93/94 [============================>.] - ETA: 0s - loss: 0.2312\n",
      "Epoch 00008: val_loss improved from 0.23137 to 0.22885, saving model to Models/lstm_mask_vertex\n",
      "INFO:tensorflow:Assets written to: Models/lstm_mask_vertex\\assets\n",
      "94/94 [==============================] - 8s 84ms/step - loss: 0.2315 - val_loss: 0.2289\n",
      "Epoch 9/100\n",
      "93/94 [============================>.] - ETA: 0s - loss: 0.2303\n",
      "Epoch 00009: val_loss did not improve from 0.22885\n",
      "94/94 [==============================] - 6s 63ms/step - loss: 0.2302 - val_loss: 0.2291\n",
      "Epoch 10/100\n",
      "93/94 [============================>.] - ETA: 0s - loss: 0.2279\n",
      "Epoch 00010: val_loss improved from 0.22885 to 0.22868, saving model to Models/lstm_mask_vertex\n",
      "INFO:tensorflow:Assets written to: Models/lstm_mask_vertex\\assets\n",
      "94/94 [==============================] - 7s 80ms/step - loss: 0.2278 - val_loss: 0.2287\n",
      "Epoch 11/100\n",
      "93/94 [============================>.] - ETA: 0s - loss: 0.2280\n",
      "Epoch 00011: val_loss improved from 0.22868 to 0.22779, saving model to Models/lstm_mask_vertex\n",
      "INFO:tensorflow:Assets written to: Models/lstm_mask_vertex\\assets\n",
      "94/94 [==============================] - 8s 87ms/step - loss: 0.2281 - val_loss: 0.2278\n",
      "Epoch 12/100\n",
      "93/94 [============================>.] - ETA: 0s - loss: 0.2284\n",
      "Epoch 00012: val_loss improved from 0.22779 to 0.22709, saving model to Models/lstm_mask_vertex\n",
      "INFO:tensorflow:Assets written to: Models/lstm_mask_vertex\\assets\n",
      "94/94 [==============================] - 7s 76ms/step - loss: 0.2284 - val_loss: 0.2271\n",
      "Epoch 13/100\n",
      "93/94 [============================>.] - ETA: 0s - loss: 0.2277\n",
      "Epoch 00013: val_loss did not improve from 0.22709\n",
      "94/94 [==============================] - 6s 66ms/step - loss: 0.2277 - val_loss: 0.2273\n",
      "Epoch 14/100\n",
      "94/94 [==============================] - ETA: 0s - loss: 0.2262\n",
      "Epoch 00014: val_loss improved from 0.22709 to 0.22620, saving model to Models/lstm_mask_vertex\n",
      "INFO:tensorflow:Assets written to: Models/lstm_mask_vertex\\assets\n",
      "94/94 [==============================] - 6s 67ms/step - loss: 0.2262 - val_loss: 0.2262\n",
      "Epoch 15/100\n",
      "93/94 [============================>.] - ETA: 0s - loss: 0.2253\n",
      "Epoch 00015: val_loss improved from 0.22620 to 0.22516, saving model to Models/lstm_mask_vertex\n",
      "INFO:tensorflow:Assets written to: Models/lstm_mask_vertex\\assets\n",
      "94/94 [==============================] - 7s 69ms/step - loss: 0.2253 - val_loss: 0.2252\n",
      "Epoch 16/100\n",
      "93/94 [============================>.] - ETA: 0s - loss: 0.2245\n",
      "Epoch 00016: val_loss improved from 0.22516 to 0.22463, saving model to Models/lstm_mask_vertex\n",
      "INFO:tensorflow:Assets written to: Models/lstm_mask_vertex\\assets\n",
      "94/94 [==============================] - 7s 69ms/step - loss: 0.2247 - val_loss: 0.2246\n",
      "Epoch 17/100\n",
      "94/94 [==============================] - ETA: 0s - loss: 0.2250\n",
      "Epoch 00017: val_loss did not improve from 0.22463\n",
      "94/94 [==============================] - 5s 48ms/step - loss: 0.2250 - val_loss: 0.2265\n",
      "Epoch 18/100\n",
      "93/94 [============================>.] - ETA: 0s - loss: 0.2235\n",
      "Epoch 00018: val_loss did not improve from 0.22463\n",
      "94/94 [==============================] - 4s 44ms/step - loss: 0.2235 - val_loss: 0.2248\n",
      "Epoch 19/100\n",
      "94/94 [==============================] - ETA: 0s - loss: 0.2230\n",
      "Epoch 00019: val_loss did not improve from 0.22463\n",
      "94/94 [==============================] - 4s 45ms/step - loss: 0.2230 - val_loss: 0.2249\n",
      "Epoch 20/100\n",
      "93/94 [============================>.] - ETA: 0s - loss: 0.2222\n",
      "Epoch 00020: val_loss improved from 0.22463 to 0.22440, saving model to Models/lstm_mask_vertex\n",
      "INFO:tensorflow:Assets written to: Models/lstm_mask_vertex\\assets\n",
      "94/94 [==============================] - 7s 71ms/step - loss: 0.2222 - val_loss: 0.2244\n",
      "Epoch 00020: early stopping\n",
      "Wall time: 2min 41s\n"
     ]
    }
   ],
   "source": [
    "%%time\n",
    "# Train NN \n",
    "max_ev = int(1e6)\n",
    "n_constits = 10\n",
    "sort = 'vert_disp'\n",
    "trunc = True\n",
    "\n",
    "#B_path = data_path + \"event_level_vert/bb1_vert.txt\"\n",
    "#S_path = data_path + \"event_level_vert/dark1_vert.txt\"\n",
    "B_path = [\"Data/from_cluster/bb{}.txt\".format(i) for i in range(1,5)]\n",
    "S_path = [\"Data/from_cluster/dark{}.txt\".format(i) for i in range(1,5)]\n",
    "\n",
    "B = events_to_df_vert1(B_path, label=0, max_ev=max_ev, n_constits=n_constits, sort=sort, trunc=trunc)\n",
    "S = events_to_df_vert1(S_path, label=1, max_ev=max_ev, n_constits=n_constits, sort=sort, trunc=trunc) \n",
    "B = B[:len(S)]\n",
    "S = S[:len(B)]\n",
    "\n",
    "feats = [\"vert_disp\", \"vert_mult\", \"vert_PT\"]\n",
    "n_consits = 10\n",
    "train_val = pd.concat([B,S]).sample(frac=1).reset_index()\n",
    "\n",
    "X_train, y_train, X_val, y_val = for_nn_vert(train_val, feats, n_constits, val_frac=0.2)\n",
    "\n",
    "print(\"Number of background jets = \", len(B))\n",
    "print(\"Number of signal jets = \", len(S))\n",
    "\n",
    "# Train model\n",
    "model = lstm_mask(n_constits, feats)\n",
    "train(model, X_train, y_train, X_val, y_val, 'lstm_mask_vertex')"
   ]
  },
  {
   "cell_type": "code",
   "execution_count": 3,
   "metadata": {},
   "outputs": [
    {
     "name": "stdout",
     "output_type": "stream",
     "text": [
      "Number of background test jets =  29316\n",
      "Number of signal test jets =  29316\n",
      "0.5129280938736526\n"
     ]
    },
    {
     "data": {
      "image/png": "[encoded data removed]",
      "text/plain": [
       "<Figure size 597.6x421.2 with 1 Axes>"
      ]
     },
     "metadata": {
      "needs_background": "light"
     },
     "output_type": "display_data"
    },
    {
     "name": "stdout",
     "output_type": "stream",
     "text": [
      "Wall time: 15.5 s\n"
     ]
    }
   ],
   "source": [
    "%%time\n",
    "# Evaluate NN\n",
    "model_name = 'lstm_mask_vertex'\n",
    "max_ev = int(1e6)\n",
    "n_constits = 10\n",
    "feats = [\"vert_disp\", \"vert_mult\", \"vert_PT\"]\n",
    "sort = 'vert_disp'\n",
    "trunc = True\n",
    "\n",
    "#B_test_path = data_path + \"event_level_vert/bb2_vert.txt\"\n",
    "#S_test_path = data_path + \"event_level_vert/dark2_vert.txt\"\n",
    "B_test_path = [\"Data/from_cluster/bb{}.txt\".format(i) for i in range(5,7)]\n",
    "S_test_path = [\"Data/from_cluster/dark{}.txt\".format(i) for i in range(5,7)]\n",
    "\n",
    "B_test = events_to_df_vert1(B_test_path, label=0, max_ev=max_ev, n_constits=n_constits, sort=sort, trunc=trunc)\n",
    "S_test= events_to_df_vert1(S_test_path, label=1, max_ev=max_ev, n_constits=n_constits, sort=sort, trunc=trunc) \n",
    "B_test = B_test[:len(S_test)]\n",
    "S_test = S_test[:len(B_test)]\n",
    "\n",
    "X_test_B = np.concatenate(np.array(B_test.copy()[feats]).flatten()).reshape((len(B_test), n_constits, len(feats)))\n",
    "X_test_S = np.concatenate(np.array(S_test.copy()[feats]).flatten()).reshape((len(S_test), n_constits, len(feats)))\n",
    "\n",
    "print(\"Number of background test jets = \", len(B_test))\n",
    "print(\"Number of signal test jets = \", len(S_test))\n",
    "\n",
    "test_model(model_name, X_test_B, X_test_S, analysis_dir=analysis_path)"
   ]
  }
 ],
 "metadata": {
  "kernelspec": {
   "display_name": "Python 3",
   "language": "python",
   "name": "python3"
  },
  "language_info": {
   "codemirror_mode": {
    "name": "ipython",
    "version": 3
   },
   "file_extension": ".py",
   "mimetype": "text/x-python",
   "name": "python",
   "nbconvert_exporter": "python",
   "pygments_lexer": "ipython3",
   "version": "3.7.4"
  }
 },
 "nbformat": 4,
 "nbformat_minor": 4
}
