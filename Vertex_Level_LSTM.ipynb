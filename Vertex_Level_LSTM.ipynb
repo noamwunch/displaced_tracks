{
 "cells": [
  {
   "cell_type": "code",
   "execution_count": 1,
   "metadata": {},
   "outputs": [
    {
     "name": "stdout",
     "output_type": "stream",
     "text": [
      "Wall time: 6.75 s\n"
     ]
    }
   ],
   "source": [
    "%%time\n",
    "import numpy as np\n",
    "import matplotlib.pyplot as plt\n",
    "import pandas as pd\n",
    "\n",
    "from Functions.Preprocess import events_to_df_vert1, scale_shift_feats, for_nn_vert\n",
    "from Functions.Models import cnn, lstm, lstm_big, train, lstm_mask\n",
    "from Functions.Evaluate import compareAB, test_model\n",
    "analysis_path = \"Analysis/Rave/\""
   ]
  },
  {
   "cell_type": "code",
   "execution_count": 3,
   "metadata": {},
   "outputs": [
    {
     "name": "stdout",
     "output_type": "stream",
     "text": [
      "num total examples = 29204\n",
      "num train examples = 23363\n",
      "num validation examples = 5841\n",
      "num Background examples = 14602\n",
      "num Signal examples = 14602\n",
      "X_train shape = (23363, 10, 3) \n",
      "\n",
      "Number of background jets =  14602\n",
      "Number of signal jets =  14602\n",
      "Model: \"sequential\"\n",
      "_________________________________________________________________\n",
      "Layer (type)                 Output Shape              Param #   \n",
      "=================================================================\n",
      "masking (Masking)            (None, 10, 3)             0         \n",
      "_________________________________________________________________\n",
      "lstm (LSTM)                  (None, 50)                10800     \n",
      "_________________________________________________________________\n",
      "dense (Dense)                (None, 16)                816       \n",
      "_________________________________________________________________\n",
      "dense_1 (Dense)              (None, 1)                 17        \n",
      "=================================================================\n",
      "Total params: 11,633\n",
      "Trainable params: 11,633\n",
      "Non-trainable params: 0\n",
      "_________________________________________________________________\n",
      "\n",
      "Epoch 1/100\n",
      "24/24 [==============================] - ETA: 0s - loss: 0.5333\n",
      "Epoch 00001: val_loss improved from inf to 0.40916, saving model to Models/lstm_mask_vertex\n",
      "WARNING:tensorflow:From c:\\users\\noamw\\desktop\\jet_tagging\\venv\\lib\\site-packages\\tensorflow\\python\\ops\\resource_variable_ops.py:1817: calling BaseResourceVariable.__init__ (from tensorflow.python.ops.resource_variable_ops) with constraint is deprecated and will be removed in a future version.\n",
      "Instructions for updating:\n",
      "If using Keras pass *_constraint arguments to layers.\n",
      "INFO:tensorflow:Assets written to: Models/lstm_mask_vertex\\assets\n",
      "24/24 [==============================] - 4s 152ms/step - loss: 0.5333 - val_loss: 0.4092\n",
      "Epoch 2/100\n",
      "23/24 [===========================>..] - ETA: 0s - loss: 0.3566\n",
      "Epoch 00002: val_loss improved from 0.40916 to 0.32201, saving model to Models/lstm_mask_vertex\n",
      "INFO:tensorflow:Assets written to: Models/lstm_mask_vertex\\assets\n",
      "24/24 [==============================] - 4s 153ms/step - loss: 0.3561 - val_loss: 0.3220\n",
      "Epoch 3/100\n",
      "23/24 [===========================>..] - ETA: 0s - loss: 0.3037\n",
      "Epoch 00003: val_loss improved from 0.32201 to 0.29843, saving model to Models/lstm_mask_vertex\n",
      "INFO:tensorflow:Assets written to: Models/lstm_mask_vertex\\assets\n",
      "24/24 [==============================] - 4s 168ms/step - loss: 0.3035 - val_loss: 0.2984\n",
      "Epoch 4/100\n",
      "23/24 [===========================>..] - ETA: 0s - loss: 0.2860\n",
      "Epoch 00004: val_loss improved from 0.29843 to 0.27303, saving model to Models/lstm_mask_vertex\n",
      "INFO:tensorflow:Assets written to: Models/lstm_mask_vertex\\assets\n",
      "24/24 [==============================] - 4s 160ms/step - loss: 0.2858 - val_loss: 0.2730\n",
      "Epoch 5/100\n",
      "23/24 [===========================>..] - ETA: 0s - loss: 0.2645\n",
      "Epoch 00005: val_loss improved from 0.27303 to 0.26080, saving model to Models/lstm_mask_vertex\n",
      "INFO:tensorflow:Assets written to: Models/lstm_mask_vertex\\assets\n",
      "24/24 [==============================] - 4s 155ms/step - loss: 0.2642 - val_loss: 0.2608\n",
      "Epoch 6/100\n",
      "23/24 [===========================>..] - ETA: 0s - loss: 0.2487\n",
      "Epoch 00006: val_loss improved from 0.26080 to 0.24942, saving model to Models/lstm_mask_vertex\n",
      "INFO:tensorflow:Assets written to: Models/lstm_mask_vertex\\assets\n",
      "24/24 [==============================] - 4s 163ms/step - loss: 0.2486 - val_loss: 0.2494\n",
      "Epoch 7/100\n",
      "23/24 [===========================>..] - ETA: 0s - loss: 0.2413\n",
      "Epoch 00007: val_loss improved from 0.24942 to 0.24568, saving model to Models/lstm_mask_vertex\n",
      "INFO:tensorflow:Assets written to: Models/lstm_mask_vertex\\assets\n",
      "24/24 [==============================] - 4s 157ms/step - loss: 0.2405 - val_loss: 0.2457\n",
      "Epoch 8/100\n",
      "23/24 [===========================>..] - ETA: 0s - loss: 0.2343\n",
      "Epoch 00008: val_loss improved from 0.24568 to 0.23978, saving model to Models/lstm_mask_vertex\n",
      "INFO:tensorflow:Assets written to: Models/lstm_mask_vertex\\assets\n",
      "24/24 [==============================] - 5s 219ms/step - loss: 0.2350 - val_loss: 0.2398\n",
      "Epoch 9/100\n",
      "23/24 [===========================>..] - ETA: 0s - loss: 0.2315\n",
      "Epoch 00009: val_loss improved from 0.23978 to 0.23872, saving model to Models/lstm_mask_vertex\n",
      "INFO:tensorflow:Assets written to: Models/lstm_mask_vertex\\assets\n",
      "24/24 [==============================] - 4s 175ms/step - loss: 0.2316 - val_loss: 0.2387\n",
      "Epoch 10/100\n",
      "23/24 [===========================>..] - ETA: 0s - loss: 0.2294\n",
      "Epoch 00010: val_loss improved from 0.23872 to 0.23742, saving model to Models/lstm_mask_vertex\n",
      "INFO:tensorflow:Assets written to: Models/lstm_mask_vertex\\assets\n",
      "24/24 [==============================] - 4s 161ms/step - loss: 0.2297 - val_loss: 0.2374\n",
      "Epoch 11/100\n",
      "23/24 [===========================>..] - ETA: 0s - loss: 0.2295\n",
      "Epoch 00011: val_loss did not improve from 0.23742\n",
      "24/24 [==============================] - 2s 70ms/step - loss: 0.2295 - val_loss: 0.2389\n",
      "Epoch 12/100\n",
      "23/24 [===========================>..] - ETA: 0s - loss: 0.2278\n",
      "Epoch 00012: val_loss improved from 0.23742 to 0.23207, saving model to Models/lstm_mask_vertex\n",
      "INFO:tensorflow:Assets written to: Models/lstm_mask_vertex\\assets\n",
      "24/24 [==============================] - 4s 147ms/step - loss: 0.2277 - val_loss: 0.2321\n",
      "Epoch 13/100\n",
      "23/24 [===========================>..] - ETA: 0s - loss: 0.2258\n",
      "Epoch 00013: val_loss did not improve from 0.23207\n",
      "24/24 [==============================] - 1s 58ms/step - loss: 0.2255 - val_loss: 0.2351\n",
      "Epoch 14/100\n",
      "23/24 [===========================>..] - ETA: 0s - loss: 0.2240\n",
      "Epoch 00014: val_loss did not improve from 0.23207\n",
      "24/24 [==============================] - 2s 69ms/step - loss: 0.2244 - val_loss: 0.2364\n",
      "Epoch 15/100\n",
      "23/24 [===========================>..] - ETA: 0s - loss: 0.2239\n",
      "Epoch 00015: val_loss did not improve from 0.23207\n",
      "24/24 [==============================] - 2s 67ms/step - loss: 0.2233 - val_loss: 0.2387\n",
      "Epoch 16/100\n",
      "23/24 [===========================>..] - ETA: 0s - loss: 0.2232\n",
      "Epoch 00016: val_loss did not improve from 0.23207\n",
      "24/24 [==============================] - 1s 56ms/step - loss: 0.2229 - val_loss: 0.2349\n",
      "Epoch 17/100\n",
      "23/24 [===========================>..] - ETA: 0s - loss: 0.2221\n",
      "Epoch 00017: val_loss did not improve from 0.23207\n",
      "24/24 [==============================] - 1s 55ms/step - loss: 0.2219 - val_loss: 0.2330\n",
      "Epoch 00017: early stopping\n",
      "Wall time: 1min\n"
     ]
    }
   ],
   "source": [
    "%%time\n",
    "# Train NN \n",
    "max_ev = int(4e4)\n",
    "n_constits = 10\n",
    "sort = 'vert_disp'\n",
    "trunc = True\n",
    "\n",
    "#B_path = data_path + \"event_level_vert/bb1_vert.txt\"\n",
    "#S_path = data_path + \"event_level_vert/dark1_vert.txt\"\n",
    "B_path = [\"Data/from_cluster/bb{}.txt\".format(i) for i in range(1,5)]\n",
    "S_path = [\"Data/from_cluster/dark{}.txt\".format(i) for i in range(1,5)]\n",
    "\n",
    "B = events_to_df_vert1(B_path, label=0, max_ev=max_ev, n_constits=n_constits, sort=sort, trunc=trunc)\n",
    "S = events_to_df_vert1(S_path, label=1, max_ev=max_ev, n_constits=n_constits, sort=sort, trunc=trunc) \n",
    "B = B[:len(S)]\n",
    "S = S[:len(B)]\n",
    "\n",
    "feats = [\"vert_disp\", \"vert_mult\", \"vert_PT\"]\n",
    "n_consits = 10\n",
    "train_val = pd.concat([B,S]).sample(frac=1).reset_index()\n",
    "\n",
    "X_train, y_train, X_val, y_val = for_nn_vert(train_val, feats, n_constits, val_frac=0.2)\n",
    "\n",
    "print(\"Number of background jets = \", len(B))\n",
    "print(\"Number of signal jets = \", len(S))\n",
    "\n",
    "# Train model\n",
    "model = lstm_mask(n_constits, feats)\n",
    "train(model, X_train, y_train, X_val, y_val, 'lstm_mask_vertex')"
   ]
  },
  {
   "cell_type": "code",
   "execution_count": 4,
   "metadata": {},
   "outputs": [
    {
     "name": "stdout",
     "output_type": "stream",
     "text": [
      "Number of background test jets =  29316\n",
      "Number of signal test jets =  29316\n",
      "0.4859121298949379\n"
     ]
    },
    {
     "data": {
      "image/png": "[encoded data removed]",
      "text/plain": [
       "<Figure size 597.6x421.2 with 1 Axes>"
      ]
     },
     "metadata": {
      "needs_background": "light"
     },
     "output_type": "display_data"
    },
    {
     "name": "stdout",
     "output_type": "stream",
     "text": [
      "Wall time: 14.7 s\n"
     ]
    }
   ],
   "source": [
    "%%time\n",
    "# Evaluate NN\n",
    "model_name = 'lstm_mask_vertex'\n",
    "max_ev = int(1e6)\n",
    "n_constits = 10\n",
    "feats = [\"vert_disp\", \"vert_mult\", \"vert_PT\"]\n",
    "sort = 'vert_disp'\n",
    "trunc = True\n",
    "\n",
    "#B_test_path = data_path + \"event_level_vert/bb2_vert.txt\"\n",
    "#S_test_path = data_path + \"event_level_vert/dark2_vert.txt\"\n",
    "B_test_path = [\"Data/from_cluster/bb{}.txt\".format(i) for i in range(5,7)]\n",
    "S_test_path = [\"Data/from_cluster/dark{}.txt\".format(i) for i in range(5,7)]\n",
    "\n",
    "B_test = events_to_df_vert1(B_test_path, label=0, max_ev=max_ev, n_constits=n_constits, sort=sort, trunc=trunc)\n",
    "S_test= events_to_df_vert1(S_test_path, label=1, max_ev=max_ev, n_constits=n_constits, sort=sort, trunc=trunc) \n",
    "B_test = B_test[:len(S_test)]\n",
    "S_test = S_test[:len(B_test)]\n",
    "\n",
    "X_test_B = np.concatenate(np.array(B_test.copy()[feats]).flatten()).reshape((len(B_test), n_constits, len(feats)))\n",
    "X_test_S = np.concatenate(np.array(S_test.copy()[feats]).flatten()).reshape((len(S_test), n_constits, len(feats)))\n",
    "\n",
    "print(\"Number of background test jets = \", len(B_test))\n",
    "print(\"Number of signal test jets = \", len(S_test))\n",
    "\n",
    "test_model(model_name, X_test_B, X_test_S, analysis_dir=analysis_path)"
   ]
  }
 ],
 "metadata": {
  "kernelspec": {
   "display_name": "Python 3",
   "language": "python",
   "name": "python3"
  },
  "language_info": {
   "codemirror_mode": {
    "name": "ipython",
    "version": 3
   },
   "file_extension": ".py",
   "mimetype": "text/x-python",
   "name": "python",
   "nbconvert_exporter": "python",
   "pygments_lexer": "ipython3",
   "version": "3.7.4"
  }
 },
 "nbformat": 4,
 "nbformat_minor": 4
}
