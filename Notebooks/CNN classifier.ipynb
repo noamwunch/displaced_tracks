{
 "cells": [
  {
   "cell_type": "markdown",
   "metadata": {},
   "source": [
    "# Dependencies"
   ]
  },
  {
   "cell_type": "code",
   "execution_count": 1,
   "metadata": {},
   "outputs": [],
   "source": [
    "import numpy as np\n",
    "import matplotlib.pyplot as plt\n",
    "import pandas as pd\n",
    "\n",
    "from xgboost import XGBClassifier\n",
    "\n",
    "import tensorflow as tf\n",
    "from tensorflow import keras\n",
    "from tensorflow.keras.models import Sequential\n",
    "from tensorflow.keras.layers import Dense, Conv1D, Flatten, Dropout, MaxPool1D\n",
    "from tensorflow.keras.optimizers import Adam\n",
    "\n",
    "from events_to_pd import events_to_pd\n",
    "from gen_feats import gen_feats"
   ]
  },
  {
   "cell_type": "markdown",
   "metadata": {},
   "source": [
    "# Load data"
   ]
  },
  {
   "cell_type": "code",
   "execution_count": 2,
   "metadata": {},
   "outputs": [
    {
     "name": "stdout",
     "output_type": "stream",
     "text": [
      "num Background train jets = 521\n",
      "num Signal train jets = 432\n",
      "num Background test jets = 467\n",
      "num Signal test jets = 399\n",
      "Wall time: 2.14 s\n"
     ]
    }
   ],
   "source": [
    "%%time\n",
    "bkg_path = \"bb1/run_a0.txt\"\n",
    "sig_path = \"dark1/run_a0.txt\"\n",
    "bkg_path_test = \"bb2/run_a0.txt\"\n",
    "sig_path_test = \"dark2/run_a0.txt\"\n",
    "\n",
    "max_ev = int(1e3)\n",
    "\n",
    "bkg, bkg_j = events_to_pd(bkg_path,max_ev)\n",
    "sig, sig_j = events_to_pd(sig_path,max_ev)\n",
    "bkg_test, bkg_j_test = events_to_pd(bkg_path_test,max_ev)\n",
    "sig_test, sig_j_test = events_to_pd(sig_path_test,max_ev)\n",
    "\n",
    "print(\"num Background train jets = {}\".format(len(bkg_j)))\n",
    "print(\"num Signal train jets = {}\".format(len(sig_j)))\n",
    "print(\"num Background test jets = {}\".format(len(bkg_j_test)))\n",
    "print(\"num Signal test jets = {}\".format(len(sig_j_test)))"
   ]
  },
  {
   "cell_type": "code",
   "execution_count": 4,
   "metadata": {},
   "outputs": [
    {
     "name": "stdout",
     "output_type": "stream",
     "text": [
      "num Background train jets = 30215\n",
      "num Signal train jets = 23671\n",
      "num Background test jets = 29767\n",
      "num Signal test jets = 23671\n",
      "Wall time: 7.12 s\n"
     ]
    }
   ],
   "source": [
    "%%time\n",
    "bkg = pd.read_pickle(\"data/bkg\")\n",
    "bkg_j = pd.read_pickle(\"data/bkg_j\")\n",
    "sig = pd.read_pickle(\"data/sig\")\n",
    "sig_j = pd.read_pickle(\"data/sig_j\")\n",
    "bkg_test = pd.read_pickle(\"data/bkg_test\")\n",
    "bkg_j_test = pd.read_pickle(\"data/bkg_j_test\")\n",
    "sig_test = pd.read_pickle(\"data/sig_test\")\n",
    "sig_j_test = pd.read_pickle(\"data/sig_j_test\")\n",
    "print(\"num Background train jets = {}\".format(len(bkg_j)))\n",
    "print(\"num Signal train jets = {}\".format(len(sig_j)))\n",
    "print(\"num Background test jets = {}\".format(len(bkg_j_test)))\n",
    "print(\"num Signal test jets = {}\".format(len(sig_j_test)))"
   ]
  },
  {
   "cell_type": "markdown",
   "metadata": {},
   "source": [
    "# Create features"
   ]
  },
  {
   "cell_type": "code",
   "execution_count": 3,
   "metadata": {},
   "outputs": [
    {
     "name": "stdout",
     "output_type": "stream",
     "text": [
      "Wall time: 4.84 s\n"
     ]
    }
   ],
   "source": [
    "%%time\n",
    "n_constits = 20\n",
    "\n",
    "bkg, bkg_j = gen_feats(bkg, bkg_j, n_constits=n_constits, label=0, boost_and_shift=True, sort=\"absD0\")\n",
    "sig, sig_j = gen_feats(sig, sig_j, n_constits=n_constits, label=1, boost_and_shift=True, sort=\"absD0\")\n",
    "\n",
    "bkg_test, bkg_j_test = gen_feats(bkg_test, bkg_j_test, n_constits=n_constits, label=0, boost_and_shift=True, sort=\"absD0\")\n",
    "sig_test, sig_j_test = gen_feats(sig_test, sig_j_test, n_constits=n_constits, label=1, boost_and_shift=True, sort=\"absD0\")"
   ]
  },
  {
   "cell_type": "code",
   "execution_count": 16,
   "metadata": {},
   "outputs": [
    {
     "name": "stdout",
     "output_type": "stream",
     "text": [
      "Wall time: 1min 19s\n"
     ]
    }
   ],
   "source": [
    "%%time\n",
    "bkg.to_pickle(\"feats_boost_D0_20/bkg\")\n",
    "bkg_j.to_pickle(\"feats_boost_D0_20/bkg_j\")\n",
    "sig.to_pickle(\"feats_boost_D0_20/sig\")\n",
    "sig_j.to_pickle(\"feats_boost_D0_20/sig_j\")\n",
    "bkg_test.to_pickle(\"feats_boost_D0_20/bkg_test\")\n",
    "bkg_j_test.to_pickle(\"feats_boost_D0_20/bkg_j_test\")\n",
    "sig_test.to_pickle(\"feats_boost_D0_20/sig_test\")\n",
    "sig_j_test.to_pickle(\"feats_boost_D0_20/sig_j_test\")"
   ]
  },
  {
   "cell_type": "code",
   "execution_count": 6,
   "metadata": {},
   "outputs": [
    {
     "name": "stdout",
     "output_type": "stream",
     "text": [
      "Wall time: 8.78 s\n"
     ]
    }
   ],
   "source": [
    "%%time\n",
    "bkg = pd.read_pickle(\"feats_boost_D0_20/bkg\")\n",
    "bkg_j = pd.read_pickle(\"feats_boost_D0_20/bkg_j\")\n",
    "sig = pd.read_pickle(\"feats_boost_D0_20/sig\")\n",
    "sig_j = pd.read_pickle(\"feats_boost_D0_20/sig_j\")\n",
    "bkg_test = pd.read_pickle(\"feats_boost_D0_20/bkg_test\")\n",
    "bkg_j_test = pd.read_pickle(\"feats_boost_D0_20/bkg_j_test\")\n",
    "sig_test = pd.read_pickle(\"feats_boost_D0_20/sig_test\")\n",
    "sig_j_test = pd.read_pickle(\"feats_boost_D0_20/sig_j_test\")"
   ]
  },
  {
   "cell_type": "code",
   "execution_count": 9,
   "metadata": {},
   "outputs": [
    {
     "data": {
      "text/plain": [
       "20"
      ]
     },
     "execution_count": 9,
     "metadata": {},
     "output_type": "execute_result"
    }
   ],
   "source": [
    "len(bkg_j[\"PT_track\"][0])"
   ]
  },
  {
   "cell_type": "code",
   "execution_count": 24,
   "metadata": {},
   "outputs": [
    {
     "data": {
      "text/html": [
       "<div>\n",
       "<style scoped>\n",
       "    .dataframe tbody tr th:only-of-type {\n",
       "        vertical-align: middle;\n",
       "    }\n",
       "\n",
       "    .dataframe tbody tr th {\n",
       "        vertical-align: top;\n",
       "    }\n",
       "\n",
       "    .dataframe thead th {\n",
       "        text-align: right;\n",
       "    }\n",
       "</style>\n",
       "<table border=\"1\" class=\"dataframe\">\n",
       "  <thead>\n",
       "    <tr style=\"text-align: right;\">\n",
       "      <th></th>\n",
       "      <th>PT_track</th>\n",
       "      <th>Eta_track</th>\n",
       "      <th>Phi_track</th>\n",
       "      <th>D0_track</th>\n",
       "      <th>DZ_track</th>\n",
       "    </tr>\n",
       "  </thead>\n",
       "  <tbody>\n",
       "    <tr>\n",
       "      <th>0</th>\n",
       "      <td>[0.21326736182357442, 0.44115540301068856, 0.2...</td>\n",
       "      <td>[-0.2111423381430579, -0.1873222058470713, 0.6...</td>\n",
       "      <td>[0.8785490931832391, 0.07367104440275156, -0.2...</td>\n",
       "      <td>[1.0, -0.32503982222571826, 0.3054846512359638...</td>\n",
       "      <td>[1.0, 0.06377011582126066, 0.12829880356255494...</td>\n",
       "    </tr>\n",
       "    <tr>\n",
       "      <th>1</th>\n",
       "      <td>[0.01967833177702013, 0.08595952137940022, 0.0...</td>\n",
       "      <td>[1.0, 0.1888977635782749, -0.08548322683706067...</td>\n",
       "      <td>[0.28509905254091256, -1.3415159345391914, -1....</td>\n",
       "      <td>[-4.401288036447494, 1.0, -0.01087983013667810...</td>\n",
       "      <td>[-3.9589674692640875, 1.0, 0.00078163682291776...</td>\n",
       "    </tr>\n",
       "    <tr>\n",
       "      <th>2</th>\n",
       "      <td>[0.014811161704948268, 0.04968466910669856, 0....</td>\n",
       "      <td>[1.0, 0.9065650062207778, 0.026772921661727424...</td>\n",
       "      <td>[-1.4631936579841371, 0.38896324513538555, -0....</td>\n",
       "      <td>[1.0, -0.2984692675407244, -0.0003779032200093...</td>\n",
       "      <td>[1.0, 0.4232220002787197, -0.00234070005109862...</td>\n",
       "    </tr>\n",
       "    <tr>\n",
       "      <th>3</th>\n",
       "      <td>[0.08471577147072436, 0.08904127932791588, 0.0...</td>\n",
       "      <td>[-0.09686752516218933, 0.050413598840988505, -...</td>\n",
       "      <td>[-0.4091723301472261, -0.08037076493137428, -0...</td>\n",
       "      <td>[-1.013545699333272, 1.0, 0.7886146981743004, ...</td>\n",
       "      <td>[-0.18104998059697947, -1.3569669288808588, -0...</td>\n",
       "    </tr>\n",
       "    <tr>\n",
       "      <th>4</th>\n",
       "      <td>[0.35745629050006117, 0.6291478175816115, 0.75...</td>\n",
       "      <td>[-0.004881583286499224, -0.002317707002819332,...</td>\n",
       "      <td>[0.15013174734623203, 0.1412632688398706, 0.10...</td>\n",
       "      <td>[-1.712161819564666, 1.0, -0.06075416802482102...</td>\n",
       "      <td>[0.6214426727410782, -1.515322703113136, 0.242...</td>\n",
       "    </tr>\n",
       "  </tbody>\n",
       "</table>\n",
       "</div>"
      ],
      "text/plain": [
       "                                            PT_track  \\\n",
       "0  [0.21326736182357442, 0.44115540301068856, 0.2...   \n",
       "1  [0.01967833177702013, 0.08595952137940022, 0.0...   \n",
       "2  [0.014811161704948268, 0.04968466910669856, 0....   \n",
       "3  [0.08471577147072436, 0.08904127932791588, 0.0...   \n",
       "4  [0.35745629050006117, 0.6291478175816115, 0.75...   \n",
       "\n",
       "                                           Eta_track  \\\n",
       "0  [-0.2111423381430579, -0.1873222058470713, 0.6...   \n",
       "1  [1.0, 0.1888977635782749, -0.08548322683706067...   \n",
       "2  [1.0, 0.9065650062207778, 0.026772921661727424...   \n",
       "3  [-0.09686752516218933, 0.050413598840988505, -...   \n",
       "4  [-0.004881583286499224, -0.002317707002819332,...   \n",
       "\n",
       "                                           Phi_track  \\\n",
       "0  [0.8785490931832391, 0.07367104440275156, -0.2...   \n",
       "1  [0.28509905254091256, -1.3415159345391914, -1....   \n",
       "2  [-1.4631936579841371, 0.38896324513538555, -0....   \n",
       "3  [-0.4091723301472261, -0.08037076493137428, -0...   \n",
       "4  [0.15013174734623203, 0.1412632688398706, 0.10...   \n",
       "\n",
       "                                            D0_track  \\\n",
       "0  [1.0, -0.32503982222571826, 0.3054846512359638...   \n",
       "1  [-4.401288036447494, 1.0, -0.01087983013667810...   \n",
       "2  [1.0, -0.2984692675407244, -0.0003779032200093...   \n",
       "3  [-1.013545699333272, 1.0, 0.7886146981743004, ...   \n",
       "4  [-1.712161819564666, 1.0, -0.06075416802482102...   \n",
       "\n",
       "                                            DZ_track  \n",
       "0  [1.0, 0.06377011582126066, 0.12829880356255494...  \n",
       "1  [-3.9589674692640875, 1.0, 0.00078163682291776...  \n",
       "2  [1.0, 0.4232220002787197, -0.00234070005109862...  \n",
       "3  [-0.18104998059697947, -1.3569669288808588, -0...  \n",
       "4  [0.6214426727410782, -1.515322703113136, 0.242...  "
      ]
     },
     "execution_count": 24,
     "metadata": {},
     "output_type": "execute_result"
    }
   ],
   "source": [
    "bkg_j[feats].head()"
   ]
  },
  {
   "cell_type": "markdown",
   "metadata": {},
   "source": [
    "# CNN classifier track"
   ]
  },
  {
   "cell_type": "markdown",
   "metadata": {},
   "source": [
    "## Train/Validation split"
   ]
  },
  {
   "cell_type": "code",
   "execution_count": 22,
   "metadata": {},
   "outputs": [
    {
     "name": "stdout",
     "output_type": "stream",
     "text": [
      "num total examples = 826\n",
      "num train examples = 660\n",
      "num validation examples = 166\n",
      "X_train shape = (660, 20, 5)\n",
      "Wall time: 36.9 ms\n"
     ]
    }
   ],
   "source": [
    "%%time\n",
    "n_constits = len(bkg_j[\"PT_track\"][0])\n",
    "\n",
    "feats = [\"PT_track\", \"Eta_track\", \"Phi_track\",\"D0_track\", \"DZ_track\"]\n",
    "\n",
    "val_frac = 0.2\n",
    "\n",
    "data = pd.concat([sig_j,bkg_j.loc[range(sig_j.shape[0])]]).sample(frac=1).reset_index()\n",
    "\n",
    "train_ind = np.arange(0,int(len(data)*(1-val_frac))) \n",
    "val_ind = np.arange(int(len(data)*(1-val_frac)),len(data))\n",
    "\n",
    "X_train = np.concatenate(np.array(data.copy().iloc[train_ind][feats]).flatten()).reshape(len(train_ind), n_constits, len(feats))\n",
    "y_train = data.iloc[train_ind][\"label\"]\n",
    "\n",
    "X_val =np.concatenate(np.array(data.copy().iloc[val_ind][feats]).flatten()).reshape(len(val_ind), n_constits, len(feats))\n",
    "y_val = data.loc[val_ind][\"label\"]\n",
    "\n",
    "X_test_B = np.concatenate(np.array(bkg_j_test.copy()[feats]).flatten()).reshape(len(bkg_j_test), n_constits, len(feats))\n",
    "X_test_S = np.concatenate(np.array(sig_j_test.copy()[feats]).flatten()).reshape(len(sig_j_test), n_constits, len(feats))\n",
    "\n",
    "print(\"num total examples = {}\".format(len(data)))\n",
    "print(\"num train examples = {}\".format(len(train_ind)))\n",
    "print(\"num validation examples = {}\".format(len(val_ind)))\n",
    "print(\"X_train shape = {}\".format(X_train.shape))"
   ]
  },
  {
   "cell_type": "code",
   "execution_count": 13,
   "metadata": {},
   "outputs": [
    {
     "data": {
      "text/plain": [
       "Index(['index', 'Event', 'Jet', 'PT', 'Eta', 'Phi', 'MET', 'mult_track',\n",
       "       'mult_tower_had', 'mult_tower_em', 'avgDeltaR', 'PT_track', 'Eta_track',\n",
       "       'Phi_track', 'DeltaR_track', 'D0_track', 'DZ_track', 'PT_tower_had',\n",
       "       'Eta_tower_had', 'Phi_tower_had', 'DeltaR_tower_had', 'Ehad_tower_had',\n",
       "       'Eem_tower_had', 'PT_tower_em', 'Eta_tower_em', 'Phi_tower_em',\n",
       "       'DeltaR_tower_em', 'Ehad_tower_em', 'Eem_tower_em', 'maxD0', 'maxDZ',\n",
       "       'label'],\n",
       "      dtype='object')"
      ]
     },
     "execution_count": 13,
     "metadata": {},
     "output_type": "execute_result"
    }
   ],
   "source": [
    "data.columns"
   ]
  },
  {
   "cell_type": "code",
   "execution_count": 6,
   "metadata": {},
   "outputs": [
    {
     "data": {
      "text/plain": [
       "(41062, 30, 5)"
      ]
     },
     "execution_count": 6,
     "metadata": {},
     "output_type": "execute_result"
    }
   ],
   "source": [
    "X_train.shape"
   ]
  },
  {
   "cell_type": "markdown",
   "metadata": {},
   "source": [
    "## Model"
   ]
  },
  {
   "cell_type": "code",
   "execution_count": 23,
   "metadata": {},
   "outputs": [
    {
     "name": "stdout",
     "output_type": "stream",
     "text": [
      "Model: \"sequential_1\"\n",
      "_________________________________________________________________\n",
      "Layer (type)                 Output Shape              Param #   \n",
      "=================================================================\n",
      "conv1d_4 (Conv1D)            (None, 20, 128)           2048      \n",
      "_________________________________________________________________\n",
      "conv1d_5 (Conv1D)            (None, 20, 64)            24640     \n",
      "_________________________________________________________________\n",
      "dropout_2 (Dropout)          (None, 20, 64)            0         \n",
      "_________________________________________________________________\n",
      "max_pooling1d_2 (MaxPooling1 (None, 10, 64)            0         \n",
      "_________________________________________________________________\n",
      "conv1d_6 (Conv1D)            (None, 10, 32)            6176      \n",
      "_________________________________________________________________\n",
      "conv1d_7 (Conv1D)            (None, 10, 32)            3104      \n",
      "_________________________________________________________________\n",
      "dropout_3 (Dropout)          (None, 10, 32)            0         \n",
      "_________________________________________________________________\n",
      "max_pooling1d_3 (MaxPooling1 (None, 5, 32)             0         \n",
      "_________________________________________________________________\n",
      "flatten_1 (Flatten)          (None, 160)               0         \n",
      "_________________________________________________________________\n",
      "dense_3 (Dense)              (None, 16)                2576      \n",
      "_________________________________________________________________\n",
      "dense_4 (Dense)              (None, 16)                272       \n",
      "_________________________________________________________________\n",
      "dense_5 (Dense)              (None, 1)                 17        \n",
      "=================================================================\n",
      "Total params: 38,833\n",
      "Trainable params: 38,833\n",
      "Non-trainable params: 0\n",
      "_________________________________________________________________\n",
      "Epoch 1/100\n",
      "1/1 [==============================] - ETA: 0s - loss: 0.7328\n",
      "Epoch 00001: val_loss improved from inf to 0.69885, saving model to cnn_track_WandB\n",
      "INFO:tensorflow:Assets written to: cnn_track_WandB\\assets\n",
      "1/1 [==============================] - 2s 2s/step - loss: 0.7328 - val_loss: 0.6989\n",
      "Epoch 2/100\n",
      "1/1 [==============================] - ETA: 0s - loss: 0.7108\n",
      "Epoch 00002: val_loss did not improve from 0.69885\n",
      "1/1 [==============================] - 0s 60ms/step - loss: 0.7108 - val_loss: 0.6999\n",
      "Epoch 3/100\n",
      "1/1 [==============================] - ETA: 0s - loss: 0.6949\n",
      "Epoch 00003: val_loss improved from 0.69885 to 0.69845, saving model to cnn_track_WandB\n",
      "INFO:tensorflow:Assets written to: cnn_track_WandB\\assets\n",
      "1/1 [==============================] - 2s 2s/step - loss: 0.6949 - val_loss: 0.6984\n",
      "Epoch 4/100\n",
      "1/1 [==============================] - ETA: 0s - loss: 0.7063\n",
      "Epoch 00004: val_loss improved from 0.69845 to 0.69644, saving model to cnn_track_WandB\n",
      "INFO:tensorflow:Assets written to: cnn_track_WandB\\assets\n",
      "1/1 [==============================] - 1s 1s/step - loss: 0.7063 - val_loss: 0.6964\n",
      "Epoch 5/100\n",
      "1/1 [==============================] - ETA: 0s - loss: 0.6936\n",
      "Epoch 00005: val_loss improved from 0.69644 to 0.69631, saving model to cnn_track_WandB\n",
      "INFO:tensorflow:Assets written to: cnn_track_WandB\\assets\n",
      "1/1 [==============================] - 2s 2s/step - loss: 0.6936 - val_loss: 0.6963\n",
      "Epoch 6/100\n",
      "1/1 [==============================] - ETA: 0s - loss: 0.6994\n",
      "Epoch 00006: val_loss did not improve from 0.69631\n",
      "1/1 [==============================] - 0s 52ms/step - loss: 0.6994 - val_loss: 0.6972\n",
      "Epoch 7/100\n",
      "1/1 [==============================] - ETA: 0s - loss: 0.6922\n",
      "Epoch 00007: val_loss did not improve from 0.69631\n",
      "1/1 [==============================] - 0s 68ms/step - loss: 0.6922 - val_loss: 0.6976\n",
      "Epoch 8/100\n",
      "1/1 [==============================] - ETA: 0s - loss: 0.7119\n",
      "Epoch 00008: val_loss did not improve from 0.69631\n",
      "1/1 [==============================] - 0s 54ms/step - loss: 0.7119 - val_loss: 0.6990\n",
      "Epoch 9/100\n",
      "1/1 [==============================] - ETA: 0s - loss: 0.6942\n",
      "Epoch 00009: val_loss did not improve from 0.69631\n",
      "1/1 [==============================] - 0s 54ms/step - loss: 0.6942 - val_loss: 0.7017\n",
      "Epoch 00009: early stopping\n"
     ]
    }
   ],
   "source": [
    "#Define model\n",
    "model = Sequential()\n",
    "model.add(Conv1D(128, 3, padding='same', activation='relu', input_shape=(n_constits,len(feats))))\n",
    "model.add(Conv1D(64, 3, padding='same', activation='relu'))\n",
    "model.add(Dropout(0.1))\n",
    "model.add(MaxPool1D())\n",
    "model.add(Conv1D(32, 3, padding='same', activation='relu'))\n",
    "model.add(Conv1D(32, 3, padding='same', activation='relu'))\n",
    "model.add(Dropout(0.1))\n",
    "model.add(MaxPool1D())\n",
    "model.add(Flatten())\n",
    "model.add(Dense(16, activation='relu')) \n",
    "model.add(Dense(16, activation='relu'))  \n",
    "model.add(Dense(1, activation='sigmoid')) \n",
    "\n",
    "#Compile\n",
    "sgd = Adam(learning_rate=0.001)\n",
    "model.compile(sgd,loss='binary_crossentropy')\n",
    "model.summary()\n",
    "\n",
    "# Callbacks\n",
    "checkpoint = tf.keras.callbacks.ModelCheckpoint('cnn_track_WandB', verbose=1, monitor='val_loss', save_best_only=True, mode='auto')\n",
    "es = tf.keras.callbacks.EarlyStopping(monitor=\"val_loss\", min_delta=0.001, patience=5, verbose=1, mode=\"auto\", baseline=None, restore_best_weights=False) \n",
    "\n",
    "#Train model\n",
    "train_history = model.fit(X_train, y_train, batch_size=1000, epochs=100, validation_data=(X_val,y_val), callbacks=[checkpoint, es])\n",
    "\n",
    "#Load best weights\n",
    "model = tf.keras.models.load_model(\"cnn_track_WandB\")"
   ]
  },
  {
   "cell_type": "markdown",
   "metadata": {},
   "source": [
    "## Evaluate"
   ]
  },
  {
   "cell_type": "code",
   "execution_count": 16,
   "metadata": {},
   "outputs": [
    {
     "name": "stdout",
     "output_type": "stream",
     "text": [
      "sig_eff=0.12527114967462039\n",
      "bkg_eff=0.010467980295566502\n",
      "Wall time: 1.69 s\n"
     ]
    },
    {
     "data": {
      "text/plain": [
       "(array([ 29.,  52., 293., 289., 245., 296., 420., 360., 816., 888.]),\n",
       " array([1.6940506e-15, 1.0000000e-01, 2.0000000e-01, 3.0000001e-01,\n",
       "        4.0000001e-01, 5.0000000e-01, 6.0000002e-01, 6.9999999e-01,\n",
       "        8.0000001e-01, 8.9999998e-01, 1.0000000e+00], dtype=float32),\n",
       " <BarContainer object of 10 artists>)"
      ]
     },
     "execution_count": 16,
     "metadata": {},
     "output_type": "execute_result"
    },
    {
     "data": {
      "image/png": "[encoded data removed]",
      "text/plain": [
       "<Figure size 432x288 with 1 Axes>"
      ]
     },
     "metadata": {
      "needs_background": "light"
     },
     "output_type": "display_data"
    }
   ],
   "source": [
    "%%time\n",
    "#Load best weights\n",
    "model = tf.keras.models.load_model(\"cnn_track_WandB\")\n",
    "thresh = 0.93\n",
    "\n",
    "bkg_preds = model.predict(X_test_B).flatten()\n",
    "sig_preds = model.predict(X_test_S).flatten()\n",
    "bkg_eff = sum(bkg_preds>thresh)/len(bkg_preds)\n",
    "sig_eff = sum(sig_preds>thresh)/len(sig_preds)\n",
    "\n",
    "print(\"sig_eff={}\".format(sig_eff))\n",
    "print(\"bkg_eff={}\".format(bkg_eff))\n",
    "\n",
    "plt.hist(bkg_preds, bins=10);\n",
    "plt.hist(sig_preds, bins=10);"
   ]
  },
  {
   "cell_type": "code",
   "execution_count": 9,
   "metadata": {},
   "outputs": [
    {
     "name": "stderr",
     "output_type": "stream",
     "text": [
      "c:\\users\\noamw\\desktop\\jet_tagging\\venv\\lib\\site-packages\\ipykernel_launcher.py:8: RuntimeWarning: divide by zero encountered in double_scalars\n",
      "  \n"
     ]
    },
    {
     "name": "stdout",
     "output_type": "stream",
     "text": [
      "Wall time: 731 ms\n"
     ]
    },
    {
     "data": {
      "text/plain": [
       "[<matplotlib.lines.Line2D at 0x1d67870dd48>]"
      ]
     },
     "execution_count": 9,
     "metadata": {},
     "output_type": "execute_result"
    },
    {
     "data": {
      "image/png": "[encoded data removed]",
      "text/plain": [
       "<Figure size 432x288 with 1 Axes>"
      ]
     },
     "metadata": {
      "needs_background": "light"
     },
     "output_type": "display_data"
    }
   ],
   "source": [
    "%%time\n",
    "sig_eff = []\n",
    "bkg_eff = []\n",
    "frac = []\n",
    "for thresh in (1-np.arange(0.001,0.5,0.1)):\n",
    "    bkg_eff_temp = sum(bkg_preds>thresh)/len(bkg_preds)\n",
    "    sig_eff_temp = sum(sig_preds>thresh)/len(sig_preds)\n",
    "    sig_eff.append(sig_eff_temp)\n",
    "    bkg_eff.append(1/bkg_eff_temp)\n",
    "plt.semilogy(sig_eff,bkg_eff)    "
   ]
  },
  {
   "cell_type": "markdown",
   "metadata": {},
   "source": [
    "# CNN classifier tower hadrons"
   ]
  },
  {
   "cell_type": "markdown",
   "metadata": {},
   "source": [
    "## Train/Validation split"
   ]
  },
  {
   "cell_type": "code",
   "execution_count": 10,
   "metadata": {},
   "outputs": [
    {
     "name": "stdout",
     "output_type": "stream",
     "text": [
      "num total examples = 51328\n",
      "num train examples = 41062\n",
      "num validation examples = 10266\n",
      "Wall time: 660 ms\n"
     ]
    }
   ],
   "source": [
    "%%time\n",
    "feats = [\"PT_tower_had\", \"Eta_tower_had\", \"Phi_tower_had\"]\n",
    "\n",
    "val_frac = 0.2\n",
    "\n",
    "data = pd.concat([sig_j,bkg_j]).sample(frac=1).reset_index()\n",
    "\n",
    "train_ind = np.arange(0,int(len(data)*(1-val_frac))) \n",
    "val_ind = np.arange(int(len(data)*(1-val_frac)),len(data))\n",
    "\n",
    "\n",
    "X_train = np.concatenate(np.array(data.copy().iloc[train_ind][feats]).flatten()).reshape(len(train_ind), n_constits, len(feats))\n",
    "y_train = data.iloc[train_ind][\"label\"]\n",
    "\n",
    "X_val =np.concatenate(np.array(data.copy().iloc[val_ind][feats]).flatten()).reshape(len(val_ind), n_constits, len(feats))\n",
    "y_val = data.loc[val_ind][\"label\"]\n",
    "\n",
    "X_test_B = np.concatenate(np.array(bkg_j_test.copy()[feats]).flatten()).reshape(len(bkg_j_test), n_constits, len(feats))\n",
    "X_test_S = np.concatenate(np.array(sig_j_test.copy()[feats]).flatten()).reshape(len(sig_j_test), n_constits, len(feats))\n",
    "\n",
    "print(\"num total examples = {}\".format(len(data)))\n",
    "print(\"num train examples = {}\".format(len(train_ind)))\n",
    "print(\"num validation examples = {}\".format(len(val_ind)))"
   ]
  },
  {
   "cell_type": "code",
   "execution_count": 11,
   "metadata": {},
   "outputs": [
    {
     "data": {
      "text/html": [
       "<div>\n",
       "<style scoped>\n",
       "    .dataframe tbody tr th:only-of-type {\n",
       "        vertical-align: middle;\n",
       "    }\n",
       "\n",
       "    .dataframe tbody tr th {\n",
       "        vertical-align: top;\n",
       "    }\n",
       "\n",
       "    .dataframe thead th {\n",
       "        text-align: right;\n",
       "    }\n",
       "</style>\n",
       "<table border=\"1\" class=\"dataframe\">\n",
       "  <thead>\n",
       "    <tr style=\"text-align: right;\">\n",
       "      <th></th>\n",
       "      <th>index</th>\n",
       "      <th>Event</th>\n",
       "      <th>Jet</th>\n",
       "      <th>PT</th>\n",
       "      <th>Eta</th>\n",
       "      <th>Phi</th>\n",
       "      <th>MET</th>\n",
       "      <th>mult_track</th>\n",
       "      <th>mult_tower_had</th>\n",
       "      <th>mult_tower_em</th>\n",
       "      <th>...</th>\n",
       "      <th>Eem_tower_had</th>\n",
       "      <th>PT_tower_em</th>\n",
       "      <th>Eta_tower_em</th>\n",
       "      <th>Phi_tower_em</th>\n",
       "      <th>DeltaR_tower_em</th>\n",
       "      <th>Ehad_tower_em</th>\n",
       "      <th>Eem_tower_em</th>\n",
       "      <th>maxD0</th>\n",
       "      <th>maxDZ</th>\n",
       "      <th>label</th>\n",
       "    </tr>\n",
       "  </thead>\n",
       "  <tbody>\n",
       "    <tr>\n",
       "      <th>0</th>\n",
       "      <td>19199</td>\n",
       "      <td>39800</td>\n",
       "      <td>1</td>\n",
       "      <td>157.812</td>\n",
       "      <td>0.572917</td>\n",
       "      <td>2.538700</td>\n",
       "      <td>5.88029</td>\n",
       "      <td>17</td>\n",
       "      <td>5</td>\n",
       "      <td>11</td>\n",
       "      <td>...</td>\n",
       "      <td>[0.0, 0.0, 0.0, 0.0, 0.0, 0.0, 0.0, 0.0, 0.0, ...</td>\n",
       "      <td>[0.037157820698045775, 0.03345601094973766, 0....</td>\n",
       "      <td>[-0.07847300000000001, 0.065492, -0.179431, 0....</td>\n",
       "      <td>[0.08308000000000026, 0.032440000000000246, -0...</td>\n",
       "      <td>[0.114283, 0.0730875, 0.253099, 0.0808513, 0.0...</td>\n",
       "      <td>[0.0, 0.0, 0.0, 0.0, 0.0, 0.0, 0.0, 0.0, 0.0, ...</td>\n",
       "      <td>[6.59546, 6.39273, 3.93903, 4.24762, 3.49348, ...</td>\n",
       "      <td>-0.485217</td>\n",
       "      <td>-0.033199</td>\n",
       "      <td>0</td>\n",
       "    </tr>\n",
       "    <tr>\n",
       "      <th>1</th>\n",
       "      <td>17760</td>\n",
       "      <td>36859</td>\n",
       "      <td>1</td>\n",
       "      <td>157.926</td>\n",
       "      <td>2.633520</td>\n",
       "      <td>-2.741530</td>\n",
       "      <td>23.08040</td>\n",
       "      <td>2</td>\n",
       "      <td>10</td>\n",
       "      <td>11</td>\n",
       "      <td>...</td>\n",
       "      <td>[0.0, 0.0, 0.0, 0.0, 0.0, 0.0, 0.0, 0.0, 0.0, ...</td>\n",
       "      <td>[0.042924597596342595, 0.021189671111786535, 0...</td>\n",
       "      <td>[-0.06482999999999972, -0.04803999999999986, 0...</td>\n",
       "      <td>[-0.03345999999999982, -0.04529000000000005, -...</td>\n",
       "      <td>[0.0729598, 0.066027, 0.322124, 0.323252, 0.11...</td>\n",
       "      <td>[0.0, 0.0, 0.0, 0.0, 0.0, 0.0, 0.0, 0.0, 0.0, ...</td>\n",
       "      <td>[44.4876, 22.3289, 17.762, 9.5297, 7.30592, 6....</td>\n",
       "      <td>-0.213740</td>\n",
       "      <td>-0.601032</td>\n",
       "      <td>0</td>\n",
       "    </tr>\n",
       "    <tr>\n",
       "      <th>2</th>\n",
       "      <td>24168</td>\n",
       "      <td>49886</td>\n",
       "      <td>2</td>\n",
       "      <td>147.554</td>\n",
       "      <td>0.098754</td>\n",
       "      <td>-0.937863</td>\n",
       "      <td>12.49690</td>\n",
       "      <td>13</td>\n",
       "      <td>3</td>\n",
       "      <td>15</td>\n",
       "      <td>...</td>\n",
       "      <td>[0.0, 0.0, 0.0, 0.0, 0.0, 0.0, 0.0, 0.0, 0.0, ...</td>\n",
       "      <td>[0.048412513384930266, 0.045886251812895615, 0...</td>\n",
       "      <td>[-0.0403426, -0.006357199999999993, 0.00864729...</td>\n",
       "      <td>[-0.04094900000000001, -0.0009010000000000407,...</td>\n",
       "      <td>[0.0574833, 0.00642064, 0.00876343, 0.110768, ...</td>\n",
       "      <td>[0.0, 0.0, 0.0, 0.0, 0.0, 0.0, 0.0, 0.0, 0.0, ...</td>\n",
       "      <td>[7.15565, 6.79962, 6.5552, 5.18403, 3.80601, 3...</td>\n",
       "      <td>0.017365</td>\n",
       "      <td>-0.005344</td>\n",
       "      <td>0</td>\n",
       "    </tr>\n",
       "    <tr>\n",
       "      <th>3</th>\n",
       "      <td>22695</td>\n",
       "      <td>46814</td>\n",
       "      <td>1</td>\n",
       "      <td>145.545</td>\n",
       "      <td>0.151856</td>\n",
       "      <td>-2.654430</td>\n",
       "      <td>45.24300</td>\n",
       "      <td>8</td>\n",
       "      <td>2</td>\n",
       "      <td>13</td>\n",
       "      <td>...</td>\n",
       "      <td>[0.0, 0.0, 0.0, 0.0, 0.0, 0.0, 0.0, 0.0, 0.0, ...</td>\n",
       "      <td>[0.03849070734137209, 0.029995534027276793, 0....</td>\n",
       "      <td>[-0.007733999999999991, 0.022835999999999995, ...</td>\n",
       "      <td>[-0.050819999999999865, -0.08240999999999987, ...</td>\n",
       "      <td>[0.0514067, 0.0855192, 0.122162, 0.0607573, 0....</td>\n",
       "      <td>[0.0, 0.0, 0.0, 0.0, 0.0, 0.0, 0.0, 0.0, 0.0, ...</td>\n",
       "      <td>[5.66041, 4.43249, 3.41311, 3.18744, 2.86733, ...</td>\n",
       "      <td>0.005843</td>\n",
       "      <td>0.104543</td>\n",
       "      <td>0</td>\n",
       "    </tr>\n",
       "    <tr>\n",
       "      <th>4</th>\n",
       "      <td>15729</td>\n",
       "      <td>32604</td>\n",
       "      <td>1</td>\n",
       "      <td>150.806</td>\n",
       "      <td>-1.562010</td>\n",
       "      <td>-0.307282</td>\n",
       "      <td>24.45690</td>\n",
       "      <td>11</td>\n",
       "      <td>7</td>\n",
       "      <td>11</td>\n",
       "      <td>...</td>\n",
       "      <td>[0.0, 0.0, 0.0, 0.0, 0.0, 0.0, 0.0, 0.0, 0.0, ...</td>\n",
       "      <td>[0.06656167526490989, 0.049672360516159836, 0....</td>\n",
       "      <td>[0.01028999999999991, 0.012969999999999926, -0...</td>\n",
       "      <td>[-0.03426800000000002, -0.067195, -0.058111000...</td>\n",
       "      <td>[0.0357786, 0.0684351, 0.0595394, 0.0423784, 0...</td>\n",
       "      <td>[0.0, 0.0, 0.0, 0.0, 0.0, 0.0, 0.0, 0.0, 0.0, ...</td>\n",
       "      <td>[24.7507, 18.4253, 18.855, 10.7918, 9.00991, 5...</td>\n",
       "      <td>1.325710</td>\n",
       "      <td>-0.460351</td>\n",
       "      <td>0</td>\n",
       "    </tr>\n",
       "  </tbody>\n",
       "</table>\n",
       "<p>5 rows × 31 columns</p>\n",
       "</div>"
      ],
      "text/plain": [
       "   index  Event  Jet       PT       Eta       Phi       MET  mult_track  \\\n",
       "0  19199  39800    1  157.812  0.572917  2.538700   5.88029          17   \n",
       "1  17760  36859    1  157.926  2.633520 -2.741530  23.08040           2   \n",
       "2  24168  49886    2  147.554  0.098754 -0.937863  12.49690          13   \n",
       "3  22695  46814    1  145.545  0.151856 -2.654430  45.24300           8   \n",
       "4  15729  32604    1  150.806 -1.562010 -0.307282  24.45690          11   \n",
       "\n",
       "   mult_tower_had  mult_tower_em  ...  \\\n",
       "0               5             11  ...   \n",
       "1              10             11  ...   \n",
       "2               3             15  ...   \n",
       "3               2             13  ...   \n",
       "4               7             11  ...   \n",
       "\n",
       "                                       Eem_tower_had  \\\n",
       "0  [0.0, 0.0, 0.0, 0.0, 0.0, 0.0, 0.0, 0.0, 0.0, ...   \n",
       "1  [0.0, 0.0, 0.0, 0.0, 0.0, 0.0, 0.0, 0.0, 0.0, ...   \n",
       "2  [0.0, 0.0, 0.0, 0.0, 0.0, 0.0, 0.0, 0.0, 0.0, ...   \n",
       "3  [0.0, 0.0, 0.0, 0.0, 0.0, 0.0, 0.0, 0.0, 0.0, ...   \n",
       "4  [0.0, 0.0, 0.0, 0.0, 0.0, 0.0, 0.0, 0.0, 0.0, ...   \n",
       "\n",
       "                                         PT_tower_em  \\\n",
       "0  [0.037157820698045775, 0.03345601094973766, 0....   \n",
       "1  [0.042924597596342595, 0.021189671111786535, 0...   \n",
       "2  [0.048412513384930266, 0.045886251812895615, 0...   \n",
       "3  [0.03849070734137209, 0.029995534027276793, 0....   \n",
       "4  [0.06656167526490989, 0.049672360516159836, 0....   \n",
       "\n",
       "                                        Eta_tower_em  \\\n",
       "0  [-0.07847300000000001, 0.065492, -0.179431, 0....   \n",
       "1  [-0.06482999999999972, -0.04803999999999986, 0...   \n",
       "2  [-0.0403426, -0.006357199999999993, 0.00864729...   \n",
       "3  [-0.007733999999999991, 0.022835999999999995, ...   \n",
       "4  [0.01028999999999991, 0.012969999999999926, -0...   \n",
       "\n",
       "                                        Phi_tower_em  \\\n",
       "0  [0.08308000000000026, 0.032440000000000246, -0...   \n",
       "1  [-0.03345999999999982, -0.04529000000000005, -...   \n",
       "2  [-0.04094900000000001, -0.0009010000000000407,...   \n",
       "3  [-0.050819999999999865, -0.08240999999999987, ...   \n",
       "4  [-0.03426800000000002, -0.067195, -0.058111000...   \n",
       "\n",
       "                                     DeltaR_tower_em  \\\n",
       "0  [0.114283, 0.0730875, 0.253099, 0.0808513, 0.0...   \n",
       "1  [0.0729598, 0.066027, 0.322124, 0.323252, 0.11...   \n",
       "2  [0.0574833, 0.00642064, 0.00876343, 0.110768, ...   \n",
       "3  [0.0514067, 0.0855192, 0.122162, 0.0607573, 0....   \n",
       "4  [0.0357786, 0.0684351, 0.0595394, 0.0423784, 0...   \n",
       "\n",
       "                                       Ehad_tower_em  \\\n",
       "0  [0.0, 0.0, 0.0, 0.0, 0.0, 0.0, 0.0, 0.0, 0.0, ...   \n",
       "1  [0.0, 0.0, 0.0, 0.0, 0.0, 0.0, 0.0, 0.0, 0.0, ...   \n",
       "2  [0.0, 0.0, 0.0, 0.0, 0.0, 0.0, 0.0, 0.0, 0.0, ...   \n",
       "3  [0.0, 0.0, 0.0, 0.0, 0.0, 0.0, 0.0, 0.0, 0.0, ...   \n",
       "4  [0.0, 0.0, 0.0, 0.0, 0.0, 0.0, 0.0, 0.0, 0.0, ...   \n",
       "\n",
       "                                        Eem_tower_em     maxD0     maxDZ label  \n",
       "0  [6.59546, 6.39273, 3.93903, 4.24762, 3.49348, ... -0.485217 -0.033199     0  \n",
       "1  [44.4876, 22.3289, 17.762, 9.5297, 7.30592, 6.... -0.213740 -0.601032     0  \n",
       "2  [7.15565, 6.79962, 6.5552, 5.18403, 3.80601, 3...  0.017365 -0.005344     0  \n",
       "3  [5.66041, 4.43249, 3.41311, 3.18744, 2.86733, ...  0.005843  0.104543     0  \n",
       "4  [24.7507, 18.4253, 18.855, 10.7918, 9.00991, 5...  1.325710 -0.460351     0  \n",
       "\n",
       "[5 rows x 31 columns]"
      ]
     },
     "execution_count": 11,
     "metadata": {},
     "output_type": "execute_result"
    }
   ],
   "source": [
    "data.head()"
   ]
  },
  {
   "cell_type": "markdown",
   "metadata": {},
   "source": [
    "## Model"
   ]
  },
  {
   "cell_type": "code",
   "execution_count": 12,
   "metadata": {},
   "outputs": [
    {
     "name": "stdout",
     "output_type": "stream",
     "text": [
      "Model: \"sequential_1\"\n",
      "_________________________________________________________________\n",
      "Layer (type)                 Output Shape              Param #   \n",
      "=================================================================\n",
      "conv1d_4 (Conv1D)            (None, 30, 128)           1280      \n",
      "_________________________________________________________________\n",
      "conv1d_5 (Conv1D)            (None, 30, 64)            24640     \n",
      "_________________________________________________________________\n",
      "dropout_2 (Dropout)          (None, 30, 64)            0         \n",
      "_________________________________________________________________\n",
      "max_pooling1d_2 (MaxPooling1 (None, 15, 64)            0         \n",
      "_________________________________________________________________\n",
      "conv1d_6 (Conv1D)            (None, 15, 32)            6176      \n",
      "_________________________________________________________________\n",
      "conv1d_7 (Conv1D)            (None, 15, 32)            3104      \n",
      "_________________________________________________________________\n",
      "dropout_3 (Dropout)          (None, 15, 32)            0         \n",
      "_________________________________________________________________\n",
      "max_pooling1d_3 (MaxPooling1 (None, 7, 32)             0         \n",
      "_________________________________________________________________\n",
      "flatten_1 (Flatten)          (None, 224)               0         \n",
      "_________________________________________________________________\n",
      "dense_3 (Dense)              (None, 16)                3600      \n",
      "_________________________________________________________________\n",
      "dense_4 (Dense)              (None, 16)                272       \n",
      "_________________________________________________________________\n",
      "dense_5 (Dense)              (None, 1)                 17        \n",
      "=================================================================\n",
      "Total params: 39,089\n",
      "Trainable params: 39,089\n",
      "Non-trainable params: 0\n",
      "_________________________________________________________________\n",
      "Epoch 1/100\n",
      "41/42 [============================>.] - ETA: 0s - loss: 0.4510\n",
      "Epoch 00001: val_loss improved from inf to 0.35903, saving model to cnn_towerhad_WandB\n",
      "INFO:tensorflow:Assets written to: cnn_towerhad_WandB\\assets\n",
      "42/42 [==============================] - 10s 249ms/step - loss: 0.4509 - val_loss: 0.3590\n",
      "Epoch 2/100\n",
      "41/42 [============================>.] - ETA: 0s - loss: 0.3486\n",
      "Epoch 00002: val_loss improved from 0.35903 to 0.32881, saving model to cnn_towerhad_WandB\n",
      "INFO:tensorflow:Assets written to: cnn_towerhad_WandB\\assets\n",
      "42/42 [==============================] - 10s 247ms/step - loss: 0.3486 - val_loss: 0.3288\n",
      "Epoch 3/100\n",
      "41/42 [============================>.] - ETA: 0s - loss: 0.3333\n",
      "Epoch 00003: val_loss improved from 0.32881 to 0.32140, saving model to cnn_towerhad_WandB\n",
      "INFO:tensorflow:Assets written to: cnn_towerhad_WandB\\assets\n",
      "42/42 [==============================] - 10s 246ms/step - loss: 0.3334 - val_loss: 0.3214\n",
      "Epoch 4/100\n",
      "41/42 [============================>.] - ETA: 0s - loss: 0.3302\n",
      "Epoch 00004: val_loss improved from 0.32140 to 0.31714, saving model to cnn_towerhad_WandB\n",
      "INFO:tensorflow:Assets written to: cnn_towerhad_WandB\\assets\n",
      "42/42 [==============================] - 10s 248ms/step - loss: 0.3302 - val_loss: 0.3171\n",
      "Epoch 5/100\n",
      "41/42 [============================>.] - ETA: 0s - loss: 0.3263\n",
      "Epoch 00005: val_loss improved from 0.31714 to 0.31330, saving model to cnn_towerhad_WandB\n",
      "INFO:tensorflow:Assets written to: cnn_towerhad_WandB\\assets\n",
      "42/42 [==============================] - 11s 256ms/step - loss: 0.3265 - val_loss: 0.3133\n",
      "Epoch 6/100\n",
      "41/42 [============================>.] - ETA: 0s - loss: 0.3227\n",
      "Epoch 00006: val_loss improved from 0.31330 to 0.31074, saving model to cnn_towerhad_WandB\n",
      "INFO:tensorflow:Assets written to: cnn_towerhad_WandB\\assets\n",
      "42/42 [==============================] - 11s 257ms/step - loss: 0.3227 - val_loss: 0.3107\n",
      "Epoch 7/100\n",
      "41/42 [============================>.] - ETA: 0s - loss: 0.3201\n",
      "Epoch 00007: val_loss improved from 0.31074 to 0.31020, saving model to cnn_towerhad_WandB\n",
      "INFO:tensorflow:Assets written to: cnn_towerhad_WandB\\assets\n",
      "42/42 [==============================] - 11s 263ms/step - loss: 0.3202 - val_loss: 0.3102\n",
      "Epoch 8/100\n",
      "41/42 [============================>.] - ETA: 0s - loss: 0.3191\n",
      "Epoch 00008: val_loss improved from 0.31020 to 0.30946, saving model to cnn_towerhad_WandB\n",
      "INFO:tensorflow:Assets written to: cnn_towerhad_WandB\\assets\n",
      "42/42 [==============================] - 10s 239ms/step - loss: 0.3191 - val_loss: 0.3095\n",
      "Epoch 9/100\n",
      "41/42 [============================>.] - ETA: 0s - loss: 0.3168\n",
      "Epoch 00009: val_loss improved from 0.30946 to 0.30793, saving model to cnn_towerhad_WandB\n",
      "INFO:tensorflow:Assets written to: cnn_towerhad_WandB\\assets\n",
      "42/42 [==============================] - 11s 266ms/step - loss: 0.3169 - val_loss: 0.3079\n",
      "Epoch 10/100\n",
      "41/42 [============================>.] - ETA: 0s - loss: 0.3141\n",
      "Epoch 00010: val_loss improved from 0.30793 to 0.30560, saving model to cnn_towerhad_WandB\n",
      "INFO:tensorflow:Assets written to: cnn_towerhad_WandB\\assets\n",
      "42/42 [==============================] - 10s 249ms/step - loss: 0.3141 - val_loss: 0.3056\n",
      "Epoch 11/100\n",
      "41/42 [============================>.] - ETA: 0s - loss: 0.3129\n",
      "Epoch 00011: val_loss did not improve from 0.30560\n",
      "42/42 [==============================] - 9s 215ms/step - loss: 0.3128 - val_loss: 0.3059\n",
      "Epoch 12/100\n",
      "41/42 [============================>.] - ETA: 0s - loss: 0.3115\n",
      "Epoch 00012: val_loss improved from 0.30560 to 0.30550, saving model to cnn_towerhad_WandB\n",
      "INFO:tensorflow:Assets written to: cnn_towerhad_WandB\\assets\n",
      "42/42 [==============================] - 10s 234ms/step - loss: 0.3115 - val_loss: 0.3055\n",
      "Epoch 13/100\n",
      "41/42 [============================>.] - ETA: 0s - loss: 0.3120\n",
      "Epoch 00013: val_loss improved from 0.30550 to 0.30341, saving model to cnn_towerhad_WandB\n",
      "INFO:tensorflow:Assets written to: cnn_towerhad_WandB\\assets\n",
      "42/42 [==============================] - 11s 250ms/step - loss: 0.3120 - val_loss: 0.3034\n",
      "Epoch 14/100\n",
      "41/42 [============================>.] - ETA: 0s - loss: 0.3092\n",
      "Epoch 00014: val_loss improved from 0.30341 to 0.30316, saving model to cnn_towerhad_WandB\n",
      "INFO:tensorflow:Assets written to: cnn_towerhad_WandB\\assets\n",
      "42/42 [==============================] - 11s 265ms/step - loss: 0.3093 - val_loss: 0.3032\n",
      "Epoch 15/100\n",
      "41/42 [============================>.] - ETA: 0s - loss: 0.3083\n",
      "Epoch 00015: val_loss improved from 0.30316 to 0.30268, saving model to cnn_towerhad_WandB\n",
      "INFO:tensorflow:Assets written to: cnn_towerhad_WandB\\assets\n",
      "42/42 [==============================] - 10s 238ms/step - loss: 0.3084 - val_loss: 0.3027\n",
      "Epoch 16/100\n",
      "41/42 [============================>.] - ETA: 0s - loss: 0.3083\n",
      "Epoch 00016: val_loss improved from 0.30268 to 0.30020, saving model to cnn_towerhad_WandB\n",
      "INFO:tensorflow:Assets written to: cnn_towerhad_WandB\\assets\n",
      "42/42 [==============================] - 10s 245ms/step - loss: 0.3084 - val_loss: 0.3002\n",
      "Epoch 17/100\n",
      "41/42 [============================>.] - ETA: 0s - loss: 0.3054\n",
      "Epoch 00017: val_loss improved from 0.30020 to 0.30011, saving model to cnn_towerhad_WandB\n",
      "INFO:tensorflow:Assets written to: cnn_towerhad_WandB\\assets\n",
      "42/42 [==============================] - 10s 228ms/step - loss: 0.3053 - val_loss: 0.3001\n",
      "Epoch 18/100\n",
      "41/42 [============================>.] - ETA: 0s - loss: 0.3063\n",
      "Epoch 00018: val_loss did not improve from 0.30011\n",
      "42/42 [==============================] - 8s 194ms/step - loss: 0.3063 - val_loss: 0.3060\n",
      "Epoch 19/100\n",
      "41/42 [============================>.] - ETA: 0s - loss: 0.3054\n",
      "Epoch 00019: val_loss improved from 0.30011 to 0.29925, saving model to cnn_towerhad_WandB\n",
      "INFO:tensorflow:Assets written to: cnn_towerhad_WandB\\assets\n",
      "42/42 [==============================] - 10s 229ms/step - loss: 0.3053 - val_loss: 0.2993\n",
      "Epoch 20/100\n",
      "41/42 [============================>.] - ETA: 0s - loss: 0.3030- ETA: 0s - loss: 0.30\n",
      "Epoch 00020: val_loss did not improve from 0.29925\n",
      "42/42 [==============================] - 8s 200ms/step - loss: 0.3031 - val_loss: 0.3004\n",
      "Epoch 21/100\n",
      "41/42 [============================>.] - ETA: 0s - loss: 0.3035\n",
      "Epoch 00021: val_loss did not improve from 0.29925\n",
      "42/42 [==============================] - 8s 184ms/step - loss: 0.3034 - val_loss: 0.2998\n",
      "Epoch 00021: early stopping\n"
     ]
    }
   ],
   "source": [
    "#Define model\n",
    "model = Sequential()\n",
    "model.add(Conv1D(128, 3, padding='same', activation='elu', input_shape=(n_constits,len(feats))))\n",
    "model.add(Conv1D(64, 3, padding='same', activation='elu'))\n",
    "model.add(Dropout(0.1))\n",
    "model.add(MaxPool1D())\n",
    "model.add(Conv1D(32, 3, padding='same', activation='elu'))\n",
    "model.add(Conv1D(32, 3, padding='same', activation='elu'))\n",
    "model.add(Dropout(0.1))\n",
    "model.add(MaxPool1D())\n",
    "model.add(Flatten())\n",
    "model.add(Dense(16, activation='elu')) \n",
    "model.add(Dense(16, activation='elu'))  \n",
    "model.add(Dense(1, activation='sigmoid')) \n",
    "\n",
    "#Compile\n",
    "sgd = Adam(learning_rate=0.001)\n",
    "model.compile(sgd,loss='binary_crossentropy')\n",
    "model.summary()\n",
    "\n",
    "# Callbacks\n",
    "checkpoint = tf.keras.callbacks.ModelCheckpoint('cnn_towerhad_WandB', verbose=1, monitor='val_loss', save_best_only=True, mode='auto')\n",
    "es = tf.keras.callbacks.EarlyStopping(monitor=\"val_loss\", min_delta=0.001, patience=5, verbose=1, mode=\"auto\", baseline=None, restore_best_weights=False) \n",
    "\n",
    "#Train model\n",
    "train_history = model.fit(X_train, y_train, batch_size=1000, epochs=100, validation_data=(X_val,y_val), callbacks=[checkpoint, es])\n",
    "\n",
    "#Load best weights\n",
    "model = tf.keras.models.load_model(\"cnn_towerhad_WandB\")"
   ]
  },
  {
   "cell_type": "markdown",
   "metadata": {},
   "source": [
    "## Evaluate"
   ]
  },
  {
   "cell_type": "code",
   "execution_count": 13,
   "metadata": {},
   "outputs": [
    {
     "name": "stdout",
     "output_type": "stream",
     "text": [
      "sig_eff=0.313324896040499\n",
      "bkg_eff=0.004358893887087213\n",
      "Wall time: 4.83 s\n"
     ]
    },
    {
     "data": {
      "text/plain": [
       "(array([  854.,   690.,   681.,   698.,   782.,  1027.,  1320.,  1864.,\n",
       "         3401., 10807.]),\n",
       " array([0.00468984, 0.10416879, 0.20364773, 0.3031267 , 0.40260562,\n",
       "        0.50208455, 0.6015635 , 0.7010425 , 0.8005214 , 0.90000033,\n",
       "        0.9994793 ], dtype=float32),\n",
       " <BarContainer object of 10 artists>)"
      ]
     },
     "execution_count": 13,
     "metadata": {},
     "output_type": "execute_result"
    },
    {
     "data": {
      "image/png": "[encoded data removed]",
      "text/plain": [
       "<Figure size 432x288 with 1 Axes>"
      ]
     },
     "metadata": {
      "needs_background": "light"
     },
     "output_type": "display_data"
    }
   ],
   "source": [
    "%%time\n",
    "#Load best weights\n",
    "model = tf.keras.models.load_model(\"cnn_towerhad_WandB\")\n",
    "thresh = 0.955\n",
    "\n",
    "bkg_preds = model.predict(X_test_B).flatten()\n",
    "sig_preds = model.predict(X_test_S).flatten()\n",
    "bkg_eff = sum(bkg_preds>thresh)/len(bkg_preds)\n",
    "sig_eff = sum(sig_preds>thresh)/len(sig_preds)\n",
    "\n",
    "print(\"sig_eff={}\".format(sig_eff))\n",
    "print(\"bkg_eff={}\".format(bkg_eff))\n",
    "\n",
    "plt.hist(bkg_preds, bins=10);\n",
    "plt.hist(sig_preds, bins=10);"
   ]
  },
  {
   "cell_type": "code",
   "execution_count": 14,
   "metadata": {},
   "outputs": [
    {
     "name": "stderr",
     "output_type": "stream",
     "text": [
      "c:\\users\\noamw\\desktop\\jet_tagging\\venv\\lib\\site-packages\\ipykernel_launcher.py:8: RuntimeWarning: divide by zero encountered in double_scalars\n",
      "  \n"
     ]
    },
    {
     "name": "stdout",
     "output_type": "stream",
     "text": [
      "Wall time: 755 ms\n"
     ]
    },
    {
     "data": {
      "text/plain": [
       "[<matplotlib.lines.Line2D at 0x1d60b708e48>]"
      ]
     },
     "execution_count": 14,
     "metadata": {},
     "output_type": "execute_result"
    },
    {
     "data": {
      "image/png": "[encoded data removed]",
      "text/plain": [
       "<Figure size 432x288 with 1 Axes>"
      ]
     },
     "metadata": {
      "needs_background": "light"
     },
     "output_type": "display_data"
    }
   ],
   "source": [
    "%%time\n",
    "sig_eff = []\n",
    "bkg_eff = []\n",
    "frac = []\n",
    "for thresh in (1-np.arange(0.001,0.5,0.1)):\n",
    "    bkg_eff_temp = sum(bkg_preds>thresh)/len(bkg_preds)\n",
    "    sig_eff_temp = sum(sig_preds>thresh)/len(sig_preds)\n",
    "    sig_eff.append(sig_eff_temp)\n",
    "    bkg_eff.append(1/bkg_eff_temp)\n",
    "plt.semilogy(sig_eff,bkg_eff)    "
   ]
  },
  {
   "cell_type": "markdown",
   "metadata": {},
   "source": [
    "# CNN classifier tower EM"
   ]
  },
  {
   "cell_type": "markdown",
   "metadata": {},
   "source": [
    "## Train/Validation split"
   ]
  },
  {
   "cell_type": "code",
   "execution_count": 15,
   "metadata": {},
   "outputs": [
    {
     "name": "stdout",
     "output_type": "stream",
     "text": [
      "num total examples = 51328\n",
      "num train examples = 41062\n",
      "num validation examples = 10266\n",
      "Wall time: 562 ms\n"
     ]
    }
   ],
   "source": [
    "%%time\n",
    "feats = [\"PT_tower_em\", \"Eta_tower_em\", \"Phi_tower_em\"]\n",
    "\n",
    "val_frac = 0.2\n",
    "\n",
    "data = pd.concat([sig_j,bkg_j]).sample(frac=1).reset_index()\n",
    "\n",
    "train_ind = np.arange(0,int(len(data)*(1-val_frac))) \n",
    "val_ind = np.arange(int(len(data)*(1-val_frac)),len(data))\n",
    "\n",
    "\n",
    "X_train = np.concatenate(np.array(data.copy().iloc[train_ind][feats]).flatten()).reshape(len(train_ind), n_constits, len(feats))\n",
    "y_train = data.iloc[train_ind][\"label\"]\n",
    "\n",
    "X_val =np.concatenate(np.array(data.copy().iloc[val_ind][feats]).flatten()).reshape(len(val_ind), n_constits, len(feats))\n",
    "y_val = data.loc[val_ind][\"label\"]\n",
    "\n",
    "X_test_B = np.concatenate(np.array(bkg_j_test.copy()[feats]).flatten()).reshape(len(bkg_j_test), n_constits, len(feats))\n",
    "X_test_S = np.concatenate(np.array(sig_j_test.copy()[feats]).flatten()).reshape(len(sig_j_test), n_constits, len(feats))\n",
    "\n",
    "print(\"num total examples = {}\".format(len(data)))\n",
    "print(\"num train examples = {}\".format(len(train_ind)))\n",
    "print(\"num validation examples = {}\".format(len(val_ind)))"
   ]
  },
  {
   "cell_type": "code",
   "execution_count": 16,
   "metadata": {},
   "outputs": [
    {
     "data": {
      "text/plain": [
       "(41062, 30, 3)"
      ]
     },
     "execution_count": 16,
     "metadata": {},
     "output_type": "execute_result"
    }
   ],
   "source": [
    "X_train.shape"
   ]
  },
  {
   "cell_type": "markdown",
   "metadata": {},
   "source": [
    "## Model"
   ]
  },
  {
   "cell_type": "code",
   "execution_count": 17,
   "metadata": {},
   "outputs": [
    {
     "name": "stdout",
     "output_type": "stream",
     "text": [
      "Model: \"sequential_2\"\n",
      "_________________________________________________________________\n",
      "Layer (type)                 Output Shape              Param #   \n",
      "=================================================================\n",
      "conv1d_8 (Conv1D)            (None, 30, 128)           1280      \n",
      "_________________________________________________________________\n",
      "conv1d_9 (Conv1D)            (None, 30, 64)            24640     \n",
      "_________________________________________________________________\n",
      "dropout_4 (Dropout)          (None, 30, 64)            0         \n",
      "_________________________________________________________________\n",
      "max_pooling1d_4 (MaxPooling1 (None, 15, 64)            0         \n",
      "_________________________________________________________________\n",
      "conv1d_10 (Conv1D)           (None, 15, 32)            6176      \n",
      "_________________________________________________________________\n",
      "conv1d_11 (Conv1D)           (None, 15, 32)            3104      \n",
      "_________________________________________________________________\n",
      "dropout_5 (Dropout)          (None, 15, 32)            0         \n",
      "_________________________________________________________________\n",
      "max_pooling1d_5 (MaxPooling1 (None, 7, 32)             0         \n",
      "_________________________________________________________________\n",
      "flatten_2 (Flatten)          (None, 224)               0         \n",
      "_________________________________________________________________\n",
      "dense_6 (Dense)              (None, 16)                3600      \n",
      "_________________________________________________________________\n",
      "dense_7 (Dense)              (None, 16)                272       \n",
      "_________________________________________________________________\n",
      "dense_8 (Dense)              (None, 1)                 17        \n",
      "=================================================================\n",
      "Total params: 39,089\n",
      "Trainable params: 39,089\n",
      "Non-trainable params: 0\n",
      "_________________________________________________________________\n",
      "Epoch 1/100\n",
      "41/42 [============================>.] - ETA: 0s - loss: 0.4913\n",
      "Epoch 00001: val_loss improved from inf to 0.44458, saving model to cnn_towerem_WandB\n",
      "INFO:tensorflow:Assets written to: cnn_towerem_WandB\\assets\n",
      "42/42 [==============================] - 9s 224ms/step - loss: 0.4913 - val_loss: 0.4446\n",
      "Epoch 2/100\n",
      "41/42 [============================>.] - ETA: 0s - loss: 0.4170\n",
      "Epoch 00002: val_loss improved from 0.44458 to 0.40570, saving model to cnn_towerem_WandB\n",
      "INFO:tensorflow:Assets written to: cnn_towerem_WandB\\assets\n",
      "42/42 [==============================] - 15s 349ms/step - loss: 0.4171 - val_loss: 0.4057\n",
      "Epoch 3/100\n",
      "41/42 [============================>.] - ETA: 0s - loss: 0.3936\n",
      "Epoch 00003: val_loss improved from 0.40570 to 0.38735, saving model to cnn_towerem_WandB\n",
      "INFO:tensorflow:Assets written to: cnn_towerem_WandB\\assets\n",
      "42/42 [==============================] - 12s 278ms/step - loss: 0.3934 - val_loss: 0.3874\n",
      "Epoch 4/100\n",
      "41/42 [============================>.] - ETA: 0s - loss: 0.3841\n",
      "Epoch 00004: val_loss improved from 0.38735 to 0.37491, saving model to cnn_towerem_WandB\n",
      "INFO:tensorflow:Assets written to: cnn_towerem_WandB\\assets\n",
      "42/42 [==============================] - 10s 241ms/step - loss: 0.3841 - val_loss: 0.3749\n",
      "Epoch 5/100\n",
      "41/42 [============================>.] - ETA: 0s - loss: 0.3778\n",
      "Epoch 00005: val_loss did not improve from 0.37491\n",
      "42/42 [==============================] - 8s 197ms/step - loss: 0.3780 - val_loss: 0.3760\n",
      "Epoch 6/100\n",
      "41/42 [============================>.] - ETA: 0s - loss: 0.3725\n",
      "Epoch 00006: val_loss improved from 0.37491 to 0.37272, saving model to cnn_towerem_WandB\n",
      "INFO:tensorflow:Assets written to: cnn_towerem_WandB\\assets\n",
      "42/42 [==============================] - 10s 236ms/step - loss: 0.3727 - val_loss: 0.3727\n",
      "Epoch 7/100\n",
      "41/42 [============================>.] - ETA: 0s - loss: 0.3710\n",
      "Epoch 00007: val_loss improved from 0.37272 to 0.36744, saving model to cnn_towerem_WandB\n",
      "INFO:tensorflow:Assets written to: cnn_towerem_WandB\\assets\n",
      "42/42 [==============================] - 10s 232ms/step - loss: 0.3709 - val_loss: 0.3674\n",
      "Epoch 8/100\n",
      "41/42 [============================>.] - ETA: 0s - loss: 0.3660\n",
      "Epoch 00008: val_loss improved from 0.36744 to 0.36126, saving model to cnn_towerem_WandB\n",
      "INFO:tensorflow:Assets written to: cnn_towerem_WandB\\assets\n",
      "42/42 [==============================] - 10s 241ms/step - loss: 0.3662 - val_loss: 0.3613\n",
      "Epoch 9/100\n",
      "41/42 [============================>.] - ETA: 0s - loss: 0.3645\n",
      "Epoch 00009: val_loss did not improve from 0.36126\n",
      "42/42 [==============================] - 8s 202ms/step - loss: 0.3645 - val_loss: 0.3661\n",
      "Epoch 10/100\n",
      "41/42 [============================>.] - ETA: 0s - loss: 0.3601\n",
      "Epoch 00010: val_loss did not improve from 0.36126\n",
      "42/42 [==============================] - 8s 189ms/step - loss: 0.3602 - val_loss: 0.3756\n",
      "Epoch 11/100\n",
      "41/42 [============================>.] - ETA: 0s - loss: 0.3619- ETA: \n",
      "Epoch 00011: val_loss did not improve from 0.36126\n",
      "42/42 [==============================] - 8s 184ms/step - loss: 0.3617 - val_loss: 0.3647\n",
      "Epoch 12/100\n",
      "41/42 [============================>.] - ETA: 0s - loss: 0.3578\n",
      "Epoch 00012: val_loss improved from 0.36126 to 0.35645, saving model to cnn_towerem_WandB\n",
      "INFO:tensorflow:Assets written to: cnn_towerem_WandB\\assets\n",
      "42/42 [==============================] - 9s 224ms/step - loss: 0.3577 - val_loss: 0.3565\n",
      "Epoch 13/100\n",
      "41/42 [============================>.] - ETA: 0s - loss: 0.3554\n",
      "Epoch 00013: val_loss did not improve from 0.35645\n",
      "42/42 [==============================] - 8s 196ms/step - loss: 0.3555 - val_loss: 0.3572\n",
      "Epoch 14/100\n",
      "41/42 [============================>.] - ETA: 0s - loss: 0.3540\n",
      "Epoch 00014: val_loss improved from 0.35645 to 0.35506, saving model to cnn_towerem_WandB\n",
      "INFO:tensorflow:Assets written to: cnn_towerem_WandB\\assets\n",
      "42/42 [==============================] - 9s 217ms/step - loss: 0.3540 - val_loss: 0.3551\n",
      "Epoch 15/100\n",
      "41/42 [============================>.] - ETA: 0s - loss: 0.3519\n",
      "Epoch 00015: val_loss did not improve from 0.35506\n",
      "42/42 [==============================] - 8s 199ms/step - loss: 0.3520 - val_loss: 0.3572\n",
      "Epoch 16/100\n",
      "41/42 [============================>.] - ETA: 0s - loss: 0.3531\n",
      "Epoch 00016: val_loss did not improve from 0.35506\n",
      "42/42 [==============================] - 8s 186ms/step - loss: 0.3531 - val_loss: 0.3574\n",
      "Epoch 17/100\n",
      "41/42 [============================>.] - ETA: 0s - loss: 0.3497\n",
      "Epoch 00017: val_loss did not improve from 0.35506\n",
      "42/42 [==============================] - 8s 184ms/step - loss: 0.3495 - val_loss: 0.3554\n",
      "Epoch 18/100\n",
      "41/42 [============================>.] - ETA: 0s - loss: 0.3498\n",
      "Epoch 00018: val_loss improved from 0.35506 to 0.35321, saving model to cnn_towerem_WandB\n",
      "INFO:tensorflow:Assets written to: cnn_towerem_WandB\\assets\n",
      "42/42 [==============================] - 9s 215ms/step - loss: 0.3497 - val_loss: 0.3532\n",
      "Epoch 19/100\n",
      "41/42 [============================>.] - ETA: 0s - loss: 0.3485\n",
      "Epoch 00019: val_loss improved from 0.35321 to 0.35163, saving model to cnn_towerem_WandB\n",
      "INFO:tensorflow:Assets written to: cnn_towerem_WandB\\assets\n",
      "42/42 [==============================] - 10s 230ms/step - loss: 0.3484 - val_loss: 0.3516\n",
      "Epoch 20/100\n",
      "41/42 [============================>.] - ETA: 0s - loss: 0.3463\n",
      "Epoch 00020: val_loss improved from 0.35163 to 0.35009, saving model to cnn_towerem_WandB\n",
      "INFO:tensorflow:Assets written to: cnn_towerem_WandB\\assets\n",
      "42/42 [==============================] - 10s 239ms/step - loss: 0.3464 - val_loss: 0.3501\n",
      "Epoch 21/100\n",
      "41/42 [============================>.] - ETA: 0s - loss: 0.3459\n",
      "Epoch 00021: val_loss did not improve from 0.35009\n",
      "42/42 [==============================] - 9s 204ms/step - loss: 0.3457 - val_loss: 0.3527\n",
      "Epoch 22/100\n",
      "41/42 [============================>.] - ETA: 0s - loss: 0.3450\n",
      "Epoch 00022: val_loss did not improve from 0.35009\n",
      "42/42 [==============================] - 8s 188ms/step - loss: 0.3449 - val_loss: 0.3513\n",
      "Epoch 23/100\n",
      "41/42 [============================>.] - ETA: 0s - loss: 0.3469\n",
      "Epoch 00023: val_loss did not improve from 0.35009\n",
      "42/42 [==============================] - 8s 190ms/step - loss: 0.3468 - val_loss: 0.3546\n",
      "Epoch 24/100\n",
      "41/42 [============================>.] - ETA: 0s - loss: 0.3448\n",
      "Epoch 00024: val_loss improved from 0.35009 to 0.34874, saving model to cnn_towerem_WandB\n",
      "INFO:tensorflow:Assets written to: cnn_towerem_WandB\\assets\n",
      "42/42 [==============================] - 9s 214ms/step - loss: 0.3448 - val_loss: 0.3487\n",
      "Epoch 25/100\n",
      "41/42 [============================>.] - ETA: 0s - loss: 0.3436\n",
      "Epoch 00025: val_loss did not improve from 0.34874\n",
      "42/42 [==============================] - 8s 195ms/step - loss: 0.3436 - val_loss: 0.3496\n",
      "Epoch 26/100\n",
      "41/42 [============================>.] - ETA: 0s - loss: 0.3424\n",
      "Epoch 00026: val_loss did not improve from 0.34874\n",
      "42/42 [==============================] - 8s 185ms/step - loss: 0.3425 - val_loss: 0.3505\n",
      "Epoch 27/100\n",
      "41/42 [============================>.] - ETA: 0s - loss: 0.3412\n",
      "Epoch 00027: val_loss did not improve from 0.34874\n",
      "42/42 [==============================] - 8s 183ms/step - loss: 0.3412 - val_loss: 0.3531\n",
      "Epoch 28/100\n",
      "41/42 [============================>.] - ETA: 0s - loss: 0.3431\n",
      "Epoch 00028: val_loss did not improve from 0.34874\n",
      "42/42 [==============================] - 8s 187ms/step - loss: 0.3430 - val_loss: 0.3536\n",
      "Epoch 29/100\n",
      "41/42 [============================>.] - ETA: 0s - loss: 0.3401\n",
      "Epoch 00029: val_loss improved from 0.34874 to 0.34842, saving model to cnn_towerem_WandB\n",
      "INFO:tensorflow:Assets written to: cnn_towerem_WandB\\assets\n",
      "42/42 [==============================] - 9s 214ms/step - loss: 0.3401 - val_loss: 0.3484\n",
      "Epoch 00029: early stopping\n"
     ]
    }
   ],
   "source": [
    "#Define model\n",
    "model = Sequential()\n",
    "model.add(Conv1D(128, 3, padding='same', activation='elu', input_shape=(n_constits,len(feats))))\n",
    "model.add(Conv1D(64, 3, padding='same', activation='elu'))\n",
    "model.add(Dropout(0.1))\n",
    "model.add(MaxPool1D())\n",
    "model.add(Conv1D(32, 3, padding='same', activation='elu'))\n",
    "model.add(Conv1D(32, 3, padding='same', activation='elu'))\n",
    "model.add(Dropout(0.1))\n",
    "model.add(MaxPool1D())\n",
    "model.add(Flatten())\n",
    "model.add(Dense(16, activation='elu')) \n",
    "model.add(Dense(16, activation='elu'))  \n",
    "model.add(Dense(1, activation='sigmoid')) \n",
    "\n",
    "#Compile\n",
    "sgd = Adam(learning_rate=0.001)\n",
    "model.compile(sgd,loss='binary_crossentropy')\n",
    "model.summary()\n",
    "\n",
    "# Callbacks\n",
    "checkpoint = tf.keras.callbacks.ModelCheckpoint('cnn_towerem_WandB', verbose=1, monitor='val_loss', save_best_only=True, mode='auto')\n",
    "es = tf.keras.callbacks.EarlyStopping(monitor=\"val_loss\", min_delta=0.001, patience=5, verbose=1, mode=\"auto\", baseline=None, restore_best_weights=False) \n",
    "\n",
    "#Train model\n",
    "train_history = model.fit(X_train, y_train, batch_size=1000, epochs=100, validation_data=(X_val,y_val), callbacks=[checkpoint, es])\n",
    "\n",
    "#Load best weights\n",
    "model = tf.keras.models.load_model(\"cnn_towerem_WandB\")"
   ]
  },
  {
   "cell_type": "markdown",
   "metadata": {},
   "source": [
    "## Evaluate"
   ]
  },
  {
   "cell_type": "code",
   "execution_count": 18,
   "metadata": {},
   "outputs": [
    {
     "name": "stdout",
     "output_type": "stream",
     "text": [
      "sig_eff=0.3193364671849575\n",
      "bkg_eff=0.007671653241273495\n",
      "Wall time: 5.54 s\n"
     ]
    },
    {
     "data": {
      "text/plain": [
       "(array([  885.,   763.,   721.,   810.,   937.,  1101.,  1358.,  1830.,\n",
       "         3029., 10690.]),\n",
       " array([0.00242707, 0.10202405, 0.20162103, 0.301218  , 0.40081498,\n",
       "        0.500412  , 0.60000896, 0.69960594, 0.7992029 , 0.8987999 ,\n",
       "        0.9983969 ], dtype=float32),\n",
       " <BarContainer object of 10 artists>)"
      ]
     },
     "execution_count": 18,
     "metadata": {},
     "output_type": "execute_result"
    },
    {
     "data": {
      "image/png": "[encoded data removed]",
      "text/plain": [
       "<Figure size 432x288 with 1 Axes>"
      ]
     },
     "metadata": {
      "needs_background": "light"
     },
     "output_type": "display_data"
    }
   ],
   "source": [
    "%%time\n",
    "thresh = 0.955\n",
    "#Load best weights\n",
    "model = tf.keras.models.load_model(\"cnn_towerem_WandB\")\n",
    "\n",
    "bkg_preds = model.predict(X_test_B).flatten()\n",
    "sig_preds = model.predict(X_test_S).flatten()\n",
    "bkg_eff = sum(bkg_preds>thresh)/len(bkg_preds)\n",
    "sig_eff = sum(sig_preds>thresh)/len(sig_preds)\n",
    "\n",
    "print(\"sig_eff={}\".format(sig_eff))\n",
    "print(\"bkg_eff={}\".format(bkg_eff))\n",
    "\n",
    "plt.hist(bkg_preds, bins=10);\n",
    "plt.hist(sig_preds, bins=10);"
   ]
  },
  {
   "cell_type": "code",
   "execution_count": 18,
   "metadata": {},
   "outputs": [
    {
     "name": "stdout",
     "output_type": "stream",
     "text": [
      "Wall time: 7.23 s\n"
     ]
    },
    {
     "data": {
      "text/plain": [
       "[<matplotlib.lines.Line2D at 0x17ed2d1a388>]"
      ]
     },
     "execution_count": 18,
     "metadata": {},
     "output_type": "execute_result"
    },
    {
     "data": {
      "image/png": "[encoded data removed]",
      "text/plain": [
       "<Figure size 432x288 with 1 Axes>"
      ]
     },
     "metadata": {
      "needs_background": "light"
     },
     "output_type": "display_data"
    }
   ],
   "source": [
    "%%time\n",
    "sig_eff = []\n",
    "bkg_eff = []\n",
    "frac = []\n",
    "for thresh in (1-np.arange(0.001,0.5,0.1)):\n",
    "    bkg_eff_temp = sum(bkg_preds>thresh)/len(bkg_preds)\n",
    "    sig_eff_temp = sum(sig_preds>thresh)/len(sig_preds)\n",
    "    sig_eff.append(sig_eff_temp)\n",
    "    bkg_eff.append(1/bkg_eff_temp)\n",
    "plt.semilogy(sig_eff,bkg_eff)    "
   ]
  }
 ],
 "metadata": {
  "kernelspec": {
   "display_name": "Python 3",
   "language": "python",
   "name": "python3"
  },
  "language_info": {
   "codemirror_mode": {
    "name": "ipython",
    "version": 3
   },
   "file_extension": ".py",
   "mimetype": "text/x-python",
   "name": "python",
   "nbconvert_exporter": "python",
   "pygments_lexer": "ipython3",
   "version": "3.7.4"
  }
 },
 "nbformat": 4,
 "nbformat_minor": 4
}
