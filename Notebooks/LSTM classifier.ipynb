{
 "cells": [
  {
   "cell_type": "markdown",
   "metadata": {},
   "source": [
    "# Dependencies"
   ]
  },
  {
   "cell_type": "code",
   "execution_count": 1,
   "metadata": {},
   "outputs": [],
   "source": [
    "import numpy as np\n",
    "import matplotlib.pyplot as plt\n",
    "import pandas as pd\n",
    "\n",
    "from xgboost import XGBClassifier\n",
    "\n",
    "import tensorflow as tf\n",
    "from tensorflow import keras\n",
    "from tensorflow.keras.models import Sequential\n",
    "from tensorflow.keras.layers import Dense, Conv1D, Flatten, Dropout, MaxPool1D, LSTM\n",
    "from tensorflow.keras.optimizers import Adam\n",
    "\n",
    "from events_to_pd import events_to_pd\n",
    "from gen_feats import gen_feats"
   ]
  },
  {
   "cell_type": "markdown",
   "metadata": {},
   "source": [
    "# Load data"
   ]
  },
  {
   "cell_type": "code",
   "execution_count": 24,
   "metadata": {},
   "outputs": [
    {
     "name": "stdout",
     "output_type": "stream",
     "text": [
      "num Background train jets = 30215\n",
      "num Signal train jets = 23727\n",
      "num Background test jets = 29767\n",
      "num Signal test jets = 23671\n",
      "Wall time: 3min 29s\n"
     ]
    }
   ],
   "source": [
    "%%time\n",
    "bkg_path = \"bb1/run_a0.txt\"\n",
    "sig_path = \"dark1/run_a0.txt\"\n",
    "bkg_path_test = \"bb2/run_a0.txt\"\n",
    "sig_path_test = \"dark2/run_a0.txt\"\n",
    "\n",
    "max_ev = int(1e5)\n",
    "\n",
    "bkg, bkg_j = events_to_pd(bkg_path,max_ev)\n",
    "sig, sig_j = events_to_pd(sig_path,max_ev)\n",
    "bkg_test, bkg_j_test = events_to_pd(bkg_path_test,max_ev)\n",
    "sig_test, sig_j_test = events_to_pd(sig_path_test,max_ev)\n",
    "\n",
    "print(\"num Background train jets = {}\".format(len(bkg_j)))\n",
    "print(\"num Signal train jets = {}\".format(len(sig_j)))\n",
    "print(\"num Background test jets = {}\".format(len(bkg_j_test)))\n",
    "print(\"num Signal test jets = {}\".format(len(sig_j_test)))"
   ]
  },
  {
   "cell_type": "code",
   "execution_count": 26,
   "metadata": {},
   "outputs": [],
   "source": [
    "bkg.to_pickle(\"data/bkg\")\n",
    "bkg_j.to_pickle(\"data/bkg_j\")\n",
    "sig.to_pickle(\"data/sig\")\n",
    "sig_j.to_pickle(\"data/sig_j\")\n",
    "bkg_test.to_pickle(\"data/bkg_test\")\n",
    "bkg_j_test.to_pickle(\"data/bkg_j_test\")\n",
    "sig_test.to_pickle(\"data/sig_test\")\n",
    "sig_j_test.to_pickle(\"data/sig_j\")"
   ]
  },
  {
   "cell_type": "code",
   "execution_count": 7,
   "metadata": {},
   "outputs": [
    {
     "name": "stdout",
     "output_type": "stream",
     "text": [
      "Wall time: 7.17 s\n"
     ]
    }
   ],
   "source": [
    "%%time\n",
    "bkg = pd.read_pickle(\"data/bkg\")\n",
    "bkg_j = pd.read_pickle(\"data/bkg_j\")\n",
    "sig = pd.read_pickle(\"data/sig\")\n",
    "sig_j = pd.read_pickle(\"data/sig_j\")\n",
    "bkg_test = pd.read_pickle(\"data/bkg_test\")\n",
    "bkg_j_test = pd.read_pickle(\"data/bkg_j_test\")\n",
    "sig_test = pd.read_pickle(\"data/sig_test\")\n",
    "sig_j_test = pd.read_pickle(\"data/sig_j\")"
   ]
  },
  {
   "cell_type": "markdown",
   "metadata": {},
   "source": [
    "# Create features"
   ]
  },
  {
   "cell_type": "code",
   "execution_count": 8,
   "metadata": {},
   "outputs": [
    {
     "name": "stdout",
     "output_type": "stream",
     "text": [
      "Wall time: 3min\n"
     ]
    }
   ],
   "source": [
    "%%time\n",
    "n_constits = 25\n",
    "\n",
    "bkg, bkg_j = gen_feats(bkg, bkg_j, n_constits=n_constits, label=0, boost_and_shift=True, sort=\"absD0\")\n",
    "sig, sig_j = gen_feats(sig, sig_j, n_constits=n_constits, label=1, boost_and_shift=True, sort=\"absD0\")\n",
    "\n",
    "bkg_test, bkg_j_test = gen_feats(bkg_test, bkg_j_test, n_constits=n_constits, label=0, boost_and_shift=True, sort=\"absD0\")\n",
    "sig_test, sig_j_test = gen_feats(sig_test, sig_j_test, n_constits=n_constits, label=1, boost_and_shift=True, sort=\"absD0\")"
   ]
  },
  {
   "cell_type": "code",
   "execution_count": 7,
   "metadata": {},
   "outputs": [
    {
     "data": {
      "text/html": [
       "<div>\n",
       "<style scoped>\n",
       "    .dataframe tbody tr th:only-of-type {\n",
       "        vertical-align: middle;\n",
       "    }\n",
       "\n",
       "    .dataframe tbody tr th {\n",
       "        vertical-align: top;\n",
       "    }\n",
       "\n",
       "    .dataframe thead th {\n",
       "        text-align: right;\n",
       "    }\n",
       "</style>\n",
       "<table border=\"1\" class=\"dataframe\">\n",
       "  <thead>\n",
       "    <tr style=\"text-align: right;\">\n",
       "      <th></th>\n",
       "      <th>Event</th>\n",
       "      <th>Jet</th>\n",
       "      <th>PT</th>\n",
       "      <th>Eta</th>\n",
       "      <th>Phi</th>\n",
       "      <th>mult_track</th>\n",
       "      <th>mult_tower</th>\n",
       "      <th>sumPx</th>\n",
       "      <th>sumPy</th>\n",
       "      <th>PT_track</th>\n",
       "      <th>...</th>\n",
       "      <th>DeltaR_track</th>\n",
       "      <th>D0_track</th>\n",
       "      <th>DZ_track</th>\n",
       "      <th>PT_tower</th>\n",
       "      <th>Eta_tower</th>\n",
       "      <th>Phi_tower</th>\n",
       "      <th>DeltaR_tower</th>\n",
       "      <th>MET</th>\n",
       "      <th>maxD0</th>\n",
       "      <th>label</th>\n",
       "    </tr>\n",
       "  </thead>\n",
       "  <tbody>\n",
       "    <tr>\n",
       "      <th>0</th>\n",
       "      <td>1</td>\n",
       "      <td>1</td>\n",
       "      <td>154.765</td>\n",
       "      <td>-0.949109</td>\n",
       "      <td>-2.727570</td>\n",
       "      <td>9</td>\n",
       "      <td>15</td>\n",
       "      <td>-138.119331</td>\n",
       "      <td>-60.693523</td>\n",
       "      <td>[57.2726, 12.9823, 9.08256, 5.47551, 4.66965, ...</td>\n",
       "      <td>...</td>\n",
       "      <td>[0.0678794, 0.0610078, 0.0680169, 0.0543531, 0...</td>\n",
       "      <td>[0.0926393, 0.00104306, 0.00190373, -0.0426708...</td>\n",
       "      <td>[-0.18709, 0.200578, -0.136752, -0.129054, -0....</td>\n",
       "      <td>[92.7263, 10.3008, 8.77416, 7.62353, 5.96511, ...</td>\n",
       "      <td>[-0.948645, -0.966066, -0.892382, -0.935221, -...</td>\n",
       "      <td>[-2.73277, -2.75509, -2.78226, -2.69846, -2.67...</td>\n",
       "      <td>[0.00522717, 0.0323247, 0.0787963, 0.0322513, ...</td>\n",
       "      <td>150.866342</td>\n",
       "      <td>0.092639</td>\n",
       "      <td>0</td>\n",
       "    </tr>\n",
       "    <tr>\n",
       "      <th>1</th>\n",
       "      <td>1</td>\n",
       "      <td>2</td>\n",
       "      <td>117.169</td>\n",
       "      <td>-1.728220</td>\n",
       "      <td>0.614835</td>\n",
       "      <td>8</td>\n",
       "      <td>13</td>\n",
       "      <td>92.876916</td>\n",
       "      <td>65.584130</td>\n",
       "      <td>[31.0997, 23.8363, 7.36628, 5.6948, 3.8901, 3....</td>\n",
       "      <td>...</td>\n",
       "      <td>[0.0417874, 0.0702219, 0.0637029, 0.117505, 0....</td>\n",
       "      <td>[0.0345435, 0.0702087, -0.0861242, -0.0495073,...</td>\n",
       "      <td>[-0.114731, -0.508576, -0.539706, 0.0398727, 0...</td>\n",
       "      <td>[65.9337, 14.1232, 12.1697, 11.946, 3.96994, 1...</td>\n",
       "      <td>[-1.69938, -1.73149, -1.74456, -1.73312, -1.67...</td>\n",
       "      <td>[0.592044, 0.604753, 0.798072, 0.557527, 0.647...</td>\n",
       "      <td>[0.036757, 0.0105981, 0.183964, 0.0575174, 0.0...</td>\n",
       "      <td>113.698723</td>\n",
       "      <td>0.034543</td>\n",
       "      <td>0</td>\n",
       "    </tr>\n",
       "    <tr>\n",
       "      <th>2</th>\n",
       "      <td>2</td>\n",
       "      <td>1</td>\n",
       "      <td>192.534</td>\n",
       "      <td>0.881347</td>\n",
       "      <td>-2.883480</td>\n",
       "      <td>11</td>\n",
       "      <td>25</td>\n",
       "      <td>-182.341271</td>\n",
       "      <td>-48.137319</td>\n",
       "      <td>[31.9853, 15.173, 12.7997, 12.1929, 11.9221, 1...</td>\n",
       "      <td>...</td>\n",
       "      <td>[0.0506226, 0.0148335, 0.0638486, 0.0553604, 0...</td>\n",
       "      <td>[-0.101334, 0.0758976, -0.0906685, 1.2702, -0....</td>\n",
       "      <td>[0.833184, -0.420616, 0.447464, -1.25446, 0.02...</td>\n",
       "      <td>[78.1232, 31.9573, 17.7868, 16.2995, 6.45135, ...</td>\n",
       "      <td>[0.823999, 0.958713, 0.845423, 0.813869, 0.901...</td>\n",
       "      <td>[-2.87367, -2.86085, -2.84399, -2.71754, -2.79...</td>\n",
       "      <td>[0.0581816, 0.0806095, 0.0533902, 0.179135, 0....</td>\n",
       "      <td>188.588283</td>\n",
       "      <td>-0.101334</td>\n",
       "      <td>0</td>\n",
       "    </tr>\n",
       "    <tr>\n",
       "      <th>3</th>\n",
       "      <td>2</td>\n",
       "      <td>2</td>\n",
       "      <td>174.052</td>\n",
       "      <td>0.751863</td>\n",
       "      <td>0.214220</td>\n",
       "      <td>12</td>\n",
       "      <td>19</td>\n",
       "      <td>166.152380</td>\n",
       "      <td>36.147836</td>\n",
       "      <td>[22.6572, 19.2685, 18.5948, 16.2527, 8.93074, ...</td>\n",
       "      <td>...</td>\n",
       "      <td>[0.0465386, 0.0325494, 0.046352, 0.0651489, 0....</td>\n",
       "      <td>[-0.0134758, -0.0203993, 0.145087, -0.00320931...</td>\n",
       "      <td>[0.058743, -0.0605345, -0.019895, -0.0110237, ...</td>\n",
       "      <td>[79.731, 29.4728, 16.4945, 10.0371, 8.79076, 5...</td>\n",
       "      <td>[0.792556, 0.710023, 0.730408, 0.649827, 0.744...</td>\n",
       "      <td>[0.269854, 0.192804, 0.000681421, 0.120946, 0....</td>\n",
       "      <td>[0.068928, 0.0470026, 0.214614, 0.138244, 0.01...</td>\n",
       "      <td>170.039052</td>\n",
       "      <td>-0.013476</td>\n",
       "      <td>0</td>\n",
       "    </tr>\n",
       "    <tr>\n",
       "      <th>4</th>\n",
       "      <td>3</td>\n",
       "      <td>1</td>\n",
       "      <td>162.934</td>\n",
       "      <td>-1.164060</td>\n",
       "      <td>-2.494510</td>\n",
       "      <td>10</td>\n",
       "      <td>15</td>\n",
       "      <td>-126.977381</td>\n",
       "      <td>-95.945945</td>\n",
       "      <td>[30.0525, 7.27038, 4.28302, 3.95571, 3.3523, 2...</td>\n",
       "      <td>...</td>\n",
       "      <td>[0.0317486, 0.0264253, 0.0725693, 0.118105, 0....</td>\n",
       "      <td>[0.106265, -0.0453424, 0.00193799, -0.0399016,...</td>\n",
       "      <td>[-0.2378, -0.234499, -0.0835195, -0.00895009, ...</td>\n",
       "      <td>[55.6416, 28.0006, 17.5064, 14.307, 13.5087, 6...</td>\n",
       "      <td>[-1.10117, -1.19329, -1.18089, -1.2124, -1.200...</td>\n",
       "      <td>[-2.482, -2.54561, -2.51794, -2.46633, -2.5089...</td>\n",
       "      <td>[0.0641177, 0.0588712, 0.0288496, 0.055952, 0....</td>\n",
       "      <td>159.150493</td>\n",
       "      <td>0.106265</td>\n",
       "      <td>0</td>\n",
       "    </tr>\n",
       "  </tbody>\n",
       "</table>\n",
       "<p>5 rows × 22 columns</p>\n",
       "</div>"
      ],
      "text/plain": [
       "   Event  Jet       PT       Eta       Phi  mult_track  mult_tower  \\\n",
       "0      1    1  154.765 -0.949109 -2.727570           9          15   \n",
       "1      1    2  117.169 -1.728220  0.614835           8          13   \n",
       "2      2    1  192.534  0.881347 -2.883480          11          25   \n",
       "3      2    2  174.052  0.751863  0.214220          12          19   \n",
       "4      3    1  162.934 -1.164060 -2.494510          10          15   \n",
       "\n",
       "        sumPx      sumPy                                           PT_track  \\\n",
       "0 -138.119331 -60.693523  [57.2726, 12.9823, 9.08256, 5.47551, 4.66965, ...   \n",
       "1   92.876916  65.584130  [31.0997, 23.8363, 7.36628, 5.6948, 3.8901, 3....   \n",
       "2 -182.341271 -48.137319  [31.9853, 15.173, 12.7997, 12.1929, 11.9221, 1...   \n",
       "3  166.152380  36.147836  [22.6572, 19.2685, 18.5948, 16.2527, 8.93074, ...   \n",
       "4 -126.977381 -95.945945  [30.0525, 7.27038, 4.28302, 3.95571, 3.3523, 2...   \n",
       "\n",
       "   ...                                       DeltaR_track  \\\n",
       "0  ...  [0.0678794, 0.0610078, 0.0680169, 0.0543531, 0...   \n",
       "1  ...  [0.0417874, 0.0702219, 0.0637029, 0.117505, 0....   \n",
       "2  ...  [0.0506226, 0.0148335, 0.0638486, 0.0553604, 0...   \n",
       "3  ...  [0.0465386, 0.0325494, 0.046352, 0.0651489, 0....   \n",
       "4  ...  [0.0317486, 0.0264253, 0.0725693, 0.118105, 0....   \n",
       "\n",
       "                                            D0_track  \\\n",
       "0  [0.0926393, 0.00104306, 0.00190373, -0.0426708...   \n",
       "1  [0.0345435, 0.0702087, -0.0861242, -0.0495073,...   \n",
       "2  [-0.101334, 0.0758976, -0.0906685, 1.2702, -0....   \n",
       "3  [-0.0134758, -0.0203993, 0.145087, -0.00320931...   \n",
       "4  [0.106265, -0.0453424, 0.00193799, -0.0399016,...   \n",
       "\n",
       "                                            DZ_track  \\\n",
       "0  [-0.18709, 0.200578, -0.136752, -0.129054, -0....   \n",
       "1  [-0.114731, -0.508576, -0.539706, 0.0398727, 0...   \n",
       "2  [0.833184, -0.420616, 0.447464, -1.25446, 0.02...   \n",
       "3  [0.058743, -0.0605345, -0.019895, -0.0110237, ...   \n",
       "4  [-0.2378, -0.234499, -0.0835195, -0.00895009, ...   \n",
       "\n",
       "                                            PT_tower  \\\n",
       "0  [92.7263, 10.3008, 8.77416, 7.62353, 5.96511, ...   \n",
       "1  [65.9337, 14.1232, 12.1697, 11.946, 3.96994, 1...   \n",
       "2  [78.1232, 31.9573, 17.7868, 16.2995, 6.45135, ...   \n",
       "3  [79.731, 29.4728, 16.4945, 10.0371, 8.79076, 5...   \n",
       "4  [55.6416, 28.0006, 17.5064, 14.307, 13.5087, 6...   \n",
       "\n",
       "                                           Eta_tower  \\\n",
       "0  [-0.948645, -0.966066, -0.892382, -0.935221, -...   \n",
       "1  [-1.69938, -1.73149, -1.74456, -1.73312, -1.67...   \n",
       "2  [0.823999, 0.958713, 0.845423, 0.813869, 0.901...   \n",
       "3  [0.792556, 0.710023, 0.730408, 0.649827, 0.744...   \n",
       "4  [-1.10117, -1.19329, -1.18089, -1.2124, -1.200...   \n",
       "\n",
       "                                           Phi_tower  \\\n",
       "0  [-2.73277, -2.75509, -2.78226, -2.69846, -2.67...   \n",
       "1  [0.592044, 0.604753, 0.798072, 0.557527, 0.647...   \n",
       "2  [-2.87367, -2.86085, -2.84399, -2.71754, -2.79...   \n",
       "3  [0.269854, 0.192804, 0.000681421, 0.120946, 0....   \n",
       "4  [-2.482, -2.54561, -2.51794, -2.46633, -2.5089...   \n",
       "\n",
       "                                        DeltaR_tower         MET     maxD0  \\\n",
       "0  [0.00522717, 0.0323247, 0.0787963, 0.0322513, ...  150.866342  0.092639   \n",
       "1  [0.036757, 0.0105981, 0.183964, 0.0575174, 0.0...  113.698723  0.034543   \n",
       "2  [0.0581816, 0.0806095, 0.0533902, 0.179135, 0....  188.588283 -0.101334   \n",
       "3  [0.068928, 0.0470026, 0.214614, 0.138244, 0.01...  170.039052 -0.013476   \n",
       "4  [0.0641177, 0.0588712, 0.0288496, 0.055952, 0....  159.150493  0.106265   \n",
       "\n",
       "   label  \n",
       "0      0  \n",
       "1      0  \n",
       "2      0  \n",
       "3      0  \n",
       "4      0  \n",
       "\n",
       "[5 rows x 22 columns]"
      ]
     },
     "execution_count": 7,
     "metadata": {},
     "output_type": "execute_result"
    }
   ],
   "source": [
    "bkg_j.head()"
   ]
  },
  {
   "cell_type": "markdown",
   "metadata": {},
   "source": [
    "# LSTM classifier"
   ]
  },
  {
   "cell_type": "markdown",
   "metadata": {},
   "source": [
    "## Train/Validation split"
   ]
  },
  {
   "cell_type": "code",
   "execution_count": 29,
   "metadata": {},
   "outputs": [
    {
     "data": {
      "text/plain": [
       "(22145, 27)"
      ]
     },
     "execution_count": 29,
     "metadata": {},
     "output_type": "execute_result"
    }
   ],
   "source": [
    "sig_j.shape"
   ]
  },
  {
   "cell_type": "code",
   "execution_count": 41,
   "metadata": {},
   "outputs": [
    {
     "name": "stdout",
     "output_type": "stream",
     "text": [
      "num total examples = 44290\n",
      "num train examples = 31002\n",
      "num validate examples = 13288\n",
      "Wall time: 1.44 s\n"
     ]
    }
   ],
   "source": [
    "%%time\n",
    "feats = [\"PT_track\", \"DeltaR_track\", \"D0_track\", \"DZ_track\"]\n",
    "\n",
    "val_frac = 0.3\n",
    "\n",
    "data = pd.concat([sig_j,bkg_j.loc[range(sig_j.shape[0])]]).sample(frac=1).reset_index()\n",
    "\n",
    "train_ind = np.arange(0,int(len(data)*(1-val_frac))) \n",
    "val_ind = np.arange(int(len(data)*(1-val_frac)),len(data))\n",
    "\n",
    "\n",
    "X_train = np.concatenate(np.array(data.copy().iloc[train_ind][feats].applymap(np.array)).flatten()).reshape(len(train_ind), n_constits, len(feats))\n",
    "y_train = data.iloc[train_ind][\"label\"]\n",
    "\n",
    "X_val =np.concatenate(np.array(data.copy().iloc[val_ind][feats].applymap(np.array)).flatten()).reshape(len(val_ind), n_constits, len(feats))\n",
    "y_val = data.loc[val_ind][\"label\"]\n",
    "\n",
    "X_test_B = np.concatenate(np.array(bkg_j_test.copy()[feats].applymap(np.array)).flatten()).reshape(len(bkg_j_test), n_constits, len(feats))\n",
    "X_test_S = np.concatenate(np.array(sig_j_test.copy()[feats].applymap(np.array)).flatten()).reshape(len(sig_j_test), n_constits, len(feats))\n",
    "\n",
    "print(\"num total examples = {}\".format(len(data)))\n",
    "print(\"num train examples = {}\".format(len(train_ind)))\n",
    "print(\"num validate examples = {}\".format(len(val_ind)))"
   ]
  },
  {
   "cell_type": "markdown",
   "metadata": {},
   "source": [
    "## Model"
   ]
  },
  {
   "cell_type": "code",
   "execution_count": 42,
   "metadata": {},
   "outputs": [
    {
     "name": "stdout",
     "output_type": "stream",
     "text": [
      "Model: \"sequential_4\"\n",
      "_________________________________________________________________\n",
      "Layer (type)                 Output Shape              Param #   \n",
      "=================================================================\n",
      "lstm_4 (LSTM)                (None, 50)                11000     \n",
      "_________________________________________________________________\n",
      "dense_8 (Dense)              (None, 16)                816       \n",
      "_________________________________________________________________\n",
      "dense_9 (Dense)              (None, 1)                 17        \n",
      "=================================================================\n",
      "Total params: 11,833\n",
      "Trainable params: 11,833\n",
      "Non-trainable params: 0\n",
      "_________________________________________________________________\n",
      "Epoch 1/30\n",
      "31/32 [============================>.] - ETA: 0s - loss: 0.6672\n",
      "Epoch 00001: val_loss improved from inf to 0.65265, saving model to lstm_WandB\n",
      "INFO:tensorflow:Assets written to: lstm_WandB\\assets\n",
      "32/32 [==============================] - 12s 386ms/step - loss: 0.6672 - val_loss: 0.6526\n",
      "Epoch 2/30\n",
      "31/32 [============================>.] - ETA: 0s - loss: 0.6381\n",
      "Epoch 00002: val_loss improved from 0.65265 to 0.63009, saving model to lstm_WandB\n",
      "INFO:tensorflow:Assets written to: lstm_WandB\\assets\n",
      "32/32 [==============================] - 12s 381ms/step - loss: 0.6380 - val_loss: 0.6301\n",
      "Epoch 3/30\n",
      "31/32 [============================>.] - ETA: 0s - loss: 0.6117\n",
      "Epoch 00003: val_loss improved from 0.63009 to 0.59846, saving model to lstm_WandB\n",
      "INFO:tensorflow:Assets written to: lstm_WandB\\assets\n",
      "32/32 [==============================] - 12s 389ms/step - loss: 0.6117 - val_loss: 0.5985\n",
      "Epoch 4/30\n",
      "31/32 [============================>.] - ETA: 0s - loss: 0.5734\n",
      "Epoch 00004: val_loss improved from 0.59846 to 0.54934, saving model to lstm_WandB\n",
      "INFO:tensorflow:Assets written to: lstm_WandB\\assets\n",
      "32/32 [==============================] - 14s 448ms/step - loss: 0.5734 - val_loss: 0.5493\n",
      "Epoch 5/30\n",
      "31/32 [============================>.] - ETA: 0s - loss: 0.5030\n",
      "Epoch 00005: val_loss improved from 0.54934 to 0.49421, saving model to lstm_WandB\n",
      "INFO:tensorflow:Assets written to: lstm_WandB\\assets\n",
      "32/32 [==============================] - 14s 424ms/step - loss: 0.5030 - val_loss: 0.4942\n",
      "Epoch 6/30\n",
      "31/32 [============================>.] - ETA: 0s - loss: 0.4629\n",
      "Epoch 00006: val_loss improved from 0.49421 to 0.47242, saving model to lstm_WandB\n",
      "INFO:tensorflow:Assets written to: lstm_WandB\\assets\n",
      "32/32 [==============================] - 12s 380ms/step - loss: 0.4629 - val_loss: 0.4724\n",
      "Epoch 7/30\n",
      "31/32 [============================>.] - ETA: 0s - loss: 0.4521\n",
      "Epoch 00007: val_loss improved from 0.47242 to 0.44300, saving model to lstm_WandB\n",
      "INFO:tensorflow:Assets written to: lstm_WandB\\assets\n",
      "32/32 [==============================] - 13s 407ms/step - loss: 0.4520 - val_loss: 0.4430\n",
      "Epoch 8/30\n",
      "31/32 [============================>.] - ETA: 0s - loss: 0.4280\n",
      "Epoch 00008: val_loss improved from 0.44300 to 0.44088, saving model to lstm_WandB\n",
      "INFO:tensorflow:Assets written to: lstm_WandB\\assets\n",
      "32/32 [==============================] - 12s 381ms/step - loss: 0.4281 - val_loss: 0.4409\n",
      "Epoch 9/30\n",
      "31/32 [============================>.] - ETA: 0s - loss: 0.4351\n",
      "Epoch 00009: val_loss improved from 0.44088 to 0.43415, saving model to lstm_WandB\n",
      "INFO:tensorflow:Assets written to: lstm_WandB\\assets\n",
      "32/32 [==============================] - 12s 386ms/step - loss: 0.4351 - val_loss: 0.4341\n",
      "Epoch 10/30\n",
      "31/32 [============================>.] - ETA: 0s - loss: 0.4148\n",
      "Epoch 00010: val_loss improved from 0.43415 to 0.42521, saving model to lstm_WandB\n",
      "INFO:tensorflow:Assets written to: lstm_WandB\\assets\n",
      "32/32 [==============================] - 12s 382ms/step - loss: 0.4148 - val_loss: 0.4252\n",
      "Epoch 11/30\n",
      "31/32 [============================>.] - ETA: 0s - loss: 0.3996\n",
      "Epoch 00011: val_loss did not improve from 0.42521\n",
      "32/32 [==============================] - 11s 332ms/step - loss: 0.3996 - val_loss: 0.4379\n",
      "Epoch 12/30\n",
      "31/32 [============================>.] - ETA: 0s - loss: 0.4067\n",
      "Epoch 00012: val_loss improved from 0.42521 to 0.41832, saving model to lstm_WandB\n",
      "INFO:tensorflow:Assets written to: lstm_WandB\\assets\n",
      "32/32 [==============================] - 12s 373ms/step - loss: 0.4067 - val_loss: 0.4183\n",
      "Epoch 13/30\n",
      "31/32 [============================>.] - ETA: 0s - loss: 0.4039\n",
      "Epoch 00013: val_loss did not improve from 0.41832\n",
      "32/32 [==============================] - 10s 322ms/step - loss: 0.4039 - val_loss: 0.4594\n",
      "Epoch 14/30\n",
      "31/32 [============================>.] - ETA: 0s - loss: 0.4112\n",
      "Epoch 00014: val_loss did not improve from 0.41832\n",
      "32/32 [==============================] - 12s 379ms/step - loss: 0.4112 - val_loss: 0.4306\n",
      "Epoch 15/30\n",
      "31/32 [============================>.] - ETA: 0s - loss: 0.3984\n",
      "Epoch 00015: val_loss improved from 0.41832 to 0.40554, saving model to lstm_WandB\n",
      "INFO:tensorflow:Assets written to: lstm_WandB\\assets\n",
      "32/32 [==============================] - 15s 477ms/step - loss: 0.3984 - val_loss: 0.4055\n",
      "Epoch 16/30\n",
      "31/32 [============================>.] - ETA: 0s - loss: 0.3802\n",
      "Epoch 00016: val_loss did not improve from 0.40554\n",
      "32/32 [==============================] - 13s 420ms/step - loss: 0.3802 - val_loss: 0.4097\n",
      "Epoch 17/30\n",
      "31/32 [============================>.] - ETA: 0s - loss: 0.3797\n",
      "Epoch 00017: val_loss improved from 0.40554 to 0.39678, saving model to lstm_WandB\n",
      "INFO:tensorflow:Assets written to: lstm_WandB\\assets\n",
      "32/32 [==============================] - 13s 397ms/step - loss: 0.3797 - val_loss: 0.3968\n",
      "Epoch 18/30\n",
      "31/32 [============================>.] - ETA: 0s - loss: 0.3694\n",
      "Epoch 00018: val_loss did not improve from 0.39678\n",
      "32/32 [==============================] - 11s 344ms/step - loss: 0.3693 - val_loss: 0.3975\n",
      "Epoch 19/30\n",
      "31/32 [============================>.] - ETA: 0s - loss: 0.3694\n",
      "Epoch 00019: val_loss did not improve from 0.39678\n",
      "32/32 [==============================] - 10s 323ms/step - loss: 0.3694 - val_loss: 0.4373\n",
      "Epoch 20/30\n",
      "31/32 [============================>.] - ETA: 0s - loss: 0.3983\n",
      "Epoch 00020: val_loss improved from 0.39678 to 0.39461, saving model to lstm_WandB\n",
      "INFO:tensorflow:Assets written to: lstm_WandB\\assets\n",
      "32/32 [==============================] - 13s 395ms/step - loss: 0.3984 - val_loss: 0.3946\n",
      "Epoch 21/30\n",
      "31/32 [============================>.] - ETA: 0s - loss: 0.3965\n",
      "Epoch 00021: val_loss did not improve from 0.39461\n",
      "32/32 [==============================] - 14s 426ms/step - loss: 0.3965 - val_loss: 0.3965\n",
      "Epoch 22/30\n",
      "31/32 [============================>.] - ETA: 0s - loss: 0.3916\n",
      "Epoch 00022: val_loss improved from 0.39461 to 0.38880, saving model to lstm_WandB\n",
      "INFO:tensorflow:Assets written to: lstm_WandB\\assets\n",
      "32/32 [==============================] - 14s 441ms/step - loss: 0.3915 - val_loss: 0.3888\n",
      "Epoch 23/30\n",
      "31/32 [============================>.] - ETA: 0s - loss: 0.3652\n",
      "Epoch 00023: val_loss improved from 0.38880 to 0.38052, saving model to lstm_WandB\n",
      "INFO:tensorflow:Assets written to: lstm_WandB\\assets\n",
      "32/32 [==============================] - 13s 415ms/step - loss: 0.3651 - val_loss: 0.3805\n",
      "Epoch 24/30\n",
      "31/32 [============================>.] - ETA: 0s - loss: 0.3545\n",
      "Epoch 00024: val_loss improved from 0.38052 to 0.37820, saving model to lstm_WandB\n",
      "INFO:tensorflow:Assets written to: lstm_WandB\\assets\n",
      "32/32 [==============================] - 13s 413ms/step - loss: 0.3545 - val_loss: 0.3782\n",
      "Epoch 25/30\n",
      "31/32 [============================>.] - ETA: 0s - loss: 0.3498\n",
      "Epoch 00025: val_loss did not improve from 0.37820\n",
      "32/32 [==============================] - 12s 378ms/step - loss: 0.3498 - val_loss: 0.3830\n",
      "Epoch 26/30\n",
      "31/32 [============================>.] - ETA: 0s - loss: 0.3408\n",
      "Epoch 00026: val_loss improved from 0.37820 to 0.36116, saving model to lstm_WandB\n",
      "INFO:tensorflow:Assets written to: lstm_WandB\\assets\n",
      "32/32 [==============================] - 14s 424ms/step - loss: 0.3407 - val_loss: 0.3612\n",
      "Epoch 27/30\n",
      "31/32 [============================>.] - ETA: 0s - loss: 0.3203\n",
      "Epoch 00027: val_loss improved from 0.36116 to 0.33577, saving model to lstm_WandB\n",
      "INFO:tensorflow:Assets written to: lstm_WandB\\assets\n",
      "32/32 [==============================] - 14s 435ms/step - loss: 0.3203 - val_loss: 0.3358\n",
      "Epoch 28/30\n",
      "31/32 [============================>.] - ETA: 0s - loss: 0.2990\n",
      "Epoch 00028: val_loss did not improve from 0.33577\n",
      "32/32 [==============================] - 12s 363ms/step - loss: 0.2990 - val_loss: 0.3682\n",
      "Epoch 29/30\n",
      "31/32 [============================>.] - ETA: 0s - loss: 0.3154\n",
      "Epoch 00029: val_loss improved from 0.33577 to 0.31818, saving model to lstm_WandB\n",
      "INFO:tensorflow:Assets written to: lstm_WandB\\assets\n",
      "32/32 [==============================] - 13s 404ms/step - loss: 0.3154 - val_loss: 0.3182\n",
      "Epoch 30/30\n",
      "31/32 [============================>.] - ETA: 0s - loss: 0.2802\n",
      "Epoch 00030: val_loss did not improve from 0.31818\n",
      "32/32 [==============================] - 12s 372ms/step - loss: 0.2802 - val_loss: 0.3268\n"
     ]
    }
   ],
   "source": [
    "#Define model\n",
    "model = Sequential()\n",
    "model.add(LSTM(50, activation='relu', input_shape=(n_constits, len(feats)), return_sequences=False))\n",
    "model.add(Dense(16, activation='relu'))\n",
    "model.add(Dense(1, activation='sigmoid'))\n",
    "\n",
    "#Compile\n",
    "sgd = keras.optimizers.Adam(learning_rate=0.001)\n",
    "model.compile(optimizer=sgd,loss='binary_crossentropy')\n",
    "model.summary()\n",
    "\n",
    "# Callbacks\n",
    "checkpoint = tf.keras.callbacks.ModelCheckpoint('lstm_WandB', verbose=1, monitor='val_loss', save_best_only=True, mode='auto')\n",
    "es = tf.keras.callbacks.EarlyStopping(monitor=\"val_loss\", min_delta=0.001, patience=5, verbose=1, mode=\"auto\", baseline=None, restore_best_weights=False)\n",
    "\n",
    "#Train model\n",
    "train_history = model.fit(X_train, y_train, batch_size=1000, epochs=30, validation_data=(X_val,y_val), callbacks=[checkpoint, es])\n",
    "\n",
    "#Load best weights\n",
    "model = tf.keras.models.load_model(\"lstm_WandB\")"
   ]
  },
  {
   "cell_type": "code",
   "execution_count": 39,
   "metadata": {},
   "outputs": [
    {
     "name": "stdout",
     "output_type": "stream",
     "text": [
      "Epoch 1/50\n",
      "31/32 [============================>.] - ETA: 0s - loss: 0.3650\n",
      "Epoch 00001: val_loss did not improve from 0.38876\n",
      "32/32 [==============================] - 10s 306ms/step - loss: 0.3650 - val_loss: 0.4211\n",
      "Epoch 2/50\n",
      "31/32 [============================>.] - ETA: 0s - loss: 0.3791\n",
      "Epoch 00002: val_loss did not improve from 0.38876\n",
      "32/32 [==============================] - 10s 300ms/step - loss: 0.3791 - val_loss: 0.3912\n",
      "Epoch 3/50\n",
      "31/32 [============================>.] - ETA: 0s - loss: 0.3683\n",
      "Epoch 00003: val_loss improved from 0.38876 to 0.37384, saving model to lstm_WandB\n",
      "INFO:tensorflow:Assets written to: lstm_WandB\\assets\n",
      "32/32 [==============================] - 11s 339ms/step - loss: 0.3683 - val_loss: 0.3738\n",
      "Epoch 4/50\n",
      "31/32 [============================>.] - ETA: 0s - loss: 0.3419\n",
      "Epoch 00004: val_loss did not improve from 0.37384\n",
      "32/32 [==============================] - 10s 300ms/step - loss: 0.3419 - val_loss: 0.3962\n",
      "Epoch 5/50\n",
      "31/32 [============================>.] - ETA: 0s - loss: 0.3567\n",
      "Epoch 00005: val_loss improved from 0.37384 to 0.37338, saving model to lstm_WandB\n",
      "INFO:tensorflow:Assets written to: lstm_WandB\\assets\n",
      "32/32 [==============================] - 11s 349ms/step - loss: 0.3567 - val_loss: 0.3734\n",
      "Epoch 6/50\n",
      "31/32 [============================>.] - ETA: 0s - loss: 0.3630\n",
      "Epoch 00006: val_loss improved from 0.37338 to 0.36042, saving model to lstm_WandB\n",
      "INFO:tensorflow:Assets written to: lstm_WandB\\assets\n",
      "32/32 [==============================] - 12s 361ms/step - loss: 0.3630 - val_loss: 0.3604\n",
      "Epoch 7/50\n",
      "31/32 [============================>.] - ETA: 0s - loss: 0.3306\n",
      "Epoch 00007: val_loss improved from 0.36042 to 0.35092, saving model to lstm_WandB\n",
      "INFO:tensorflow:Assets written to: lstm_WandB\\assets\n",
      "32/32 [==============================] - 12s 362ms/step - loss: 0.3306 - val_loss: 0.3509\n",
      "Epoch 8/50\n",
      "31/32 [============================>.] - ETA: 0s - loss: 0.3276\n",
      "Epoch 00008: val_loss did not improve from 0.35092\n",
      "32/32 [==============================] - 10s 300ms/step - loss: 0.3276 - val_loss: 0.4039\n",
      "Epoch 9/50\n",
      "31/32 [============================>.] - ETA: 0s - loss: 0.3420\n",
      "Epoch 00009: val_loss improved from 0.35092 to 0.34307, saving model to lstm_WandB\n",
      "INFO:tensorflow:Assets written to: lstm_WandB\\assets\n",
      "32/32 [==============================] - 11s 353ms/step - loss: 0.3420 - val_loss: 0.3431\n",
      "Epoch 10/50\n",
      "31/32 [============================>.] - ETA: 0s - loss: 0.3215\n",
      "Epoch 00010: val_loss did not improve from 0.34307\n",
      "32/32 [==============================] - 10s 304ms/step - loss: 0.3215 - val_loss: 0.6442\n",
      "Epoch 11/50\n",
      "31/32 [============================>.] - ETA: 0s - loss: 0.4100\n",
      "Epoch 00011: val_loss did not improve from 0.34307\n",
      "32/32 [==============================] - 9s 291ms/step - loss: 0.4100 - val_loss: 0.4020\n",
      "Epoch 12/50\n",
      "31/32 [============================>.] - ETA: 0s - loss: 0.3698\n",
      "Epoch 00012: val_loss did not improve from 0.34307\n",
      "32/32 [==============================] - 9s 293ms/step - loss: 0.3698 - val_loss: 0.3682\n",
      "Epoch 13/50\n",
      "31/32 [============================>.] - ETA: 0s - loss: 0.3375\n",
      "Epoch 00013: val_loss did not improve from 0.34307\n",
      "32/32 [==============================] - 10s 310ms/step - loss: 0.3374 - val_loss: 0.3493\n",
      "Epoch 14/50\n",
      "31/32 [============================>.] - ETA: 0s - loss: 0.3080\n",
      "Epoch 00014: val_loss did not improve from 0.34307\n",
      "32/32 [==============================] - 9s 291ms/step - loss: 0.3080 - val_loss: 0.3914\n",
      "Epoch 00014: early stopping\n"
     ]
    }
   ],
   "source": [
    "#Train model\n",
    "train_history = model.fit(X_train, y_train, batch_size=1000, epochs=50, validation_data=(X_val,y_val), callbacks=[checkpoint, es])\n"
   ]
  },
  {
   "cell_type": "markdown",
   "metadata": {},
   "source": [
    "## Evaluate"
   ]
  },
  {
   "cell_type": "code",
   "execution_count": 45,
   "metadata": {},
   "outputs": [
    {
     "name": "stdout",
     "output_type": "stream",
     "text": [
      "sig_eff=0.44734225275718675\n",
      "bkg_eff=0.013216166265648428\n",
      "Wall time: 13 s\n"
     ]
    },
    {
     "data": {
      "text/plain": [
       "(array([  859.,   601.,   519.,   486.,   763.,   880.,  1003.,  1298.,\n",
       "         2799., 12916.]),\n",
       " array([5.3676963e-04, 1.0048309e-01, 2.0042941e-01, 3.0037573e-01,\n",
       "        4.0032205e-01, 5.0026840e-01, 6.0021472e-01, 7.0016104e-01,\n",
       "        8.0010736e-01, 9.0005368e-01, 1.0000000e+00], dtype=float32),\n",
       " <BarContainer object of 10 artists>)"
      ]
     },
     "execution_count": 45,
     "metadata": {},
     "output_type": "execute_result"
    },
    {
     "data": {
      "image/png": "[encoded data removed]",
      "text/plain": [
       "<Figure size 432x288 with 1 Axes>"
      ]
     },
     "metadata": {
      "needs_background": "light"
     },
     "output_type": "display_data"
    }
   ],
   "source": [
    "%%time\n",
    "model = tf.keras.models.load_model(\"lstm_WandB\")\n",
    "thresh = 0.95\n",
    "\n",
    "bkg_preds = model.predict(X_test_B).flatten()\n",
    "sig_preds = model.predict(X_test_S).flatten()\n",
    "bkg_eff = sum(bkg_preds>thresh)/len(bkg_preds)\n",
    "sig_eff = sum(sig_preds>thresh)/len(sig_preds)\n",
    "\n",
    "print(\"sig_eff={}\".format(sig_eff))\n",
    "print(\"bkg_eff={}\".format(bkg_eff))\n",
    "\n",
    "plt.hist(bkg_preds, bins=10);\n",
    "plt.hist(sig_preds, bins=10);\n"
   ]
  },
  {
   "cell_type": "code",
   "execution_count": 27,
   "metadata": {},
   "outputs": [
    {
     "name": "stdout",
     "output_type": "stream",
     "text": [
      "Wall time: 7.2 s\n"
     ]
    },
    {
     "data": {
      "text/plain": [
       "[<matplotlib.lines.Line2D at 0x146c8a83e88>]"
      ]
     },
     "execution_count": 27,
     "metadata": {},
     "output_type": "execute_result"
    },
    {
     "data": {
      "image/png": "[encoded data removed]",
      "text/plain": [
       "<Figure size 432x288 with 1 Axes>"
      ]
     },
     "metadata": {
      "needs_background": "light"
     },
     "output_type": "display_data"
    }
   ],
   "source": [
    "%%time\n",
    "sig_eff = []\n",
    "bkg_eff = []\n",
    "frac = []\n",
    "for thresh in (1-np.arange(0.001,0.5,0.01)):\n",
    "    bkg_eff_temp = sum(bkg_preds>thresh)/len(bkg_preds)\n",
    "    sig_eff_temp = sum(sig_preds>thresh)/len(sig_preds)\n",
    "    sig_eff.append(sig_eff_temp)\n",
    "    bkg_eff.append(1/bkg_eff_temp)\n",
    "plt.plot(sig_eff,bkg_eff)    "
   ]
  }
 ],
 "metadata": {
  "kernelspec": {
   "display_name": "Python 3",
   "language": "python",
   "name": "python3"
  },
  "language_info": {
   "codemirror_mode": {
    "name": "ipython",
    "version": 3
   },
   "file_extension": ".py",
   "mimetype": "text/x-python",
   "name": "python",
   "nbconvert_exporter": "python",
   "pygments_lexer": "ipython3",
   "version": "3.7.4"
  }
 },
 "nbformat": 4,
 "nbformat_minor": 4
}
